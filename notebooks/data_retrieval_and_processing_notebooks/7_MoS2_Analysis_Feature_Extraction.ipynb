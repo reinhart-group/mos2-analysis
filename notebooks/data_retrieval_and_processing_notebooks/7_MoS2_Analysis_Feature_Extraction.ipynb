{
 "cells": [
  {
   "cell_type": "code",
   "execution_count": 1,
   "id": "53a4380a",
   "metadata": {},
   "outputs": [],
   "source": [
    "import torch\n",
    "import torch.nn as nn\n",
    "import torch.nn.functional as F\n",
    "\n",
    "import numpy as np\n",
    "from torchvision.models import resnet18, ResNet18_Weights\n",
    "import torch.optim as optim\n",
    "\n",
    "from torch.optim import lr_scheduler\n",
    "import torch.backends.cudnn as cudnn\n",
    "import torchvision\n",
    "from torchvision import datasets, models, transforms\n",
    "import matplotlib.pyplot as plt\n",
    "import time\n",
    "import os\n",
    "import copy\n",
    "import random\n",
    "\n",
    "import os\n",
    "import pandas as pd\n",
    "from torchvision.io import read_image\n",
    "\n",
    "from torch.utils import data\n",
    "from torch.utils.data import Dataset\n",
    "from torchvision import datasets\n",
    "from torchvision.transforms import ToTensor\n",
    "\n",
    "\n",
    "from torch.utils.data import DataLoader, TensorDataset, random_split\n",
    "\n",
    "import pickle\n",
    "\n",
    "from torch.nn import Conv2d\n",
    "from torch import optim\n",
    "\n",
    "torch.backends.cudnn.deterministic = True\n",
    "random.seed(1)\n",
    "torch.manual_seed(1)\n",
    "torch.cuda.manual_seed(1)\n",
    "np.random.seed(1)\n",
    "\n",
    "\n",
    "# CUDA for PyTorch\n",
    "use_cuda = torch.cuda.is_available()\n",
    "device = torch.device(\"cuda:0\" if use_cuda else \"cpu\")\n",
    "torch.backends.cudnn.benchmark = True\n",
    "\n",
    "from sklearn.metrics import confusion_matrix, accuracy_score\n",
    "from sklearn.preprocessing import StandardScaler\n",
    "from sklearn.svm import SVC\n",
    "sc = StandardScaler()\n"
   ]
  },
  {
   "cell_type": "code",
   "execution_count": 2,
   "id": "7fbdbfb9",
   "metadata": {},
   "outputs": [
    {
     "name": "stdout",
     "output_type": "stream",
     "text": [
      "Index(['sampleLabel', 'sampleId', 'image', 'T', 'time', 'substrate'], dtype='object')\n"
     ]
    }
   ],
   "source": [
    "with open(\"Data/MoS2_Analysis_Processed_Data2\", \"rb\") as fp:   # Unpickling\n",
    "  MoS2_data = pickle.load(fp)\n",
    "\n",
    "df = pd.DataFrame(MoS2_data)\n",
    "T = df['T']\n",
    "\n",
    "T_classes = {900.0: 0, 950.0: 1, 1000.0: 2}\n",
    "#print(MoS2_activities_substrate2['T'])\n",
    "T_target = [T_classes[T[index]] for index, item in enumerate(T)]\n",
    "sampleId = df['sampleId']\n",
    "sampleLabel = df['sampleLabel']\n",
    "Time = df['time']\n",
    "data_image = np.array([np.array(item) for item in df['image']])\n",
    "print(df.keys())"
   ]
  },
  {
   "cell_type": "code",
   "execution_count": 3,
   "id": "d5d9455a",
   "metadata": {},
   "outputs": [
    {
     "name": "stdout",
     "output_type": "stream",
     "text": [
      "(262, 224, 224)\n",
      "(262, 224, 224, 3)\n",
      "(262, 3, 224, 224)\n"
     ]
    }
   ],
   "source": [
    "Data_CNN = data_image\n",
    "print(Data_CNN.shape)\n",
    "Data_CNN_rgb = np.repeat(Data_CNN[..., np.newaxis], 3, -1)\n",
    "print(Data_CNN_rgb.shape)\n",
    "Data_CNN_rgb = Data_CNN_rgb.transpose(0, 3, 1, 2)/255\n",
    "print(Data_CNN_rgb.shape)"
   ]
  },
  {
   "cell_type": "code",
   "execution_count": 5,
   "id": "98859db9",
   "metadata": {},
   "outputs": [],
   "source": [
    "transform_test = transforms.Compose([\n",
    "      #transforms.ToPILImage(),\n",
    "      transforms.ToTensor(),\n",
    "      #transforms.Normalize(mean=mean, std=std),\n",
    "      transforms.Normalize(mean=[0.485, 0.456, 0.406], std=[0.229, 0.224, 0.225]),\n",
    "        ])"
   ]
  },
  {
   "cell_type": "code",
   "execution_count": 13,
   "id": "ae0d84dd",
   "metadata": {},
   "outputs": [
    {
     "name": "stdout",
     "output_type": "stream",
     "text": [
      "torch.Size([1, 512, 1, 1])\n",
      "262\n",
      "(262, 512)\n"
     ]
    }
   ],
   "source": [
    "import torch\n",
    "import torchvision.models as models\n",
    "import torchvision.transforms as transforms\n",
    "from PIL import Image\n",
    "\n",
    "# Load pre-trained ResNet model\n",
    "\n",
    "resnet = models.resnet18(weights=models.ResNet18_Weights.IMAGENET1K_V1)\n",
    "\n",
    "resnet.eval()\n",
    "#resnet = resnet.double()  # Set the model to evaluation mode\n",
    "#model = model.double()\n",
    "# Choose a specific layer to extract features from\n",
    "\n",
    "target_layer = resnet.avgpool  # can be layer1 - layer4\n",
    "\n",
    "# Define a hook to capture the activations from the target layer\n",
    "\n",
    "activations = []\n",
    "\n",
    "\n",
    "def hook_fn(module, input, output):\n",
    "    activations.append(output)\n",
    "\n",
    " \n",
    "\n",
    "hook = target_layer.register_forward_hook(hook_fn)\n",
    "\n",
    "# Load and preprocess an image\n",
    "\n",
    "#image = Image.open(image_path)\n",
    "\n",
    "\n",
    "for image in Data_CNN_rgb:\n",
    "    #image = image.transpose(1, 2, 0)\n",
    "    #input_tensor = transform_test(image)\n",
    "\n",
    "    #input_batch = input_tensor.unsqueeze(0)  # Create a mini-batch\n",
    "    \n",
    "    item_tensor = torch.tensor(image, dtype=torch.float32)\n",
    "    input_batch = item_tensor.unsqueeze(0)  \n",
    "\n",
    "# Pass the input through the model to trigger the hook and capture activations\n",
    "\n",
    "    with torch.no_grad():\n",
    "\n",
    "        _ = resnet(input_batch)\n",
    "\n",
    " \n",
    "# Remove the hook to prevent memory leaks\n",
    "\n",
    "hook.remove()\n",
    " \n",
    "\n",
    "# The activations list now contains the convolutional activations from the target layer\n",
    "\n",
    "# Each element corresponds to the activations of a single batch of input\n",
    "\n",
    "print(activations[0].shape)\n",
    "\n",
    "print(len(activations))\n",
    "flattened_ImageNet = np.array([a.numpy() for a in activations]).reshape(len(activations),-1)\n",
    "print(flattened_ImageNet.shape)"
   ]
  },
  {
   "cell_type": "code",
   "execution_count": null,
   "id": "325b3acd",
   "metadata": {},
   "outputs": [],
   "source": []
  },
  {
   "cell_type": "code",
   "execution_count": 14,
   "id": "8a303786",
   "metadata": {},
   "outputs": [
    {
     "name": "stderr",
     "output_type": "stream",
     "text": [
      "Using cache found in /home/faculty/iam5249/.cache/torch/hub/pytorch_vision_v0.10.0\n"
     ]
    },
    {
     "name": "stdout",
     "output_type": "stream",
     "text": [
      "torch.Size([1, 512, 1, 1])\n",
      "262\n",
      "(262, 512)\n"
     ]
    }
   ],
   "source": [
    "import torch\n",
    "import torchvision.models as models\n",
    "import torchvision.transforms as transforms\n",
    "from PIL import Image\n",
    "\n",
    "# Load pre-trained ResNet model\n",
    "\n",
    "import pretrained_microscopy_models as pmm\n",
    "import torch.utils.model_zoo as model_zoo\n",
    "\n",
    "model_micro = torch.hub.load('pytorch/vision:v0.10.0', 'resnet18', pretrained=False)\n",
    "#url = pmm.util.get_pretrained_microscopynet_url('resnet50', 'microscopynet')\n",
    "url = pmm.util.get_pretrained_microscopynet_url('resnet18', 'micronet')\n",
    "map_location=torch.device('cpu')\n",
    "model_micro.load_state_dict(model_zoo.load_url(url))\n",
    "\n",
    "model_micro.eval()\n",
    "#model_micro = model_micro.double()  # Set the model to evaluation mode\n",
    "#model = model.double()\n",
    "# Choose a specific layer to extract features from\n",
    "\n",
    "target_layer = model_micro.avgpool  # can be layer1 - layer4\n",
    "\n",
    "# Define a hook to capture the activations from the target layer\n",
    "\n",
    "activations = []\n",
    "\n",
    "\n",
    "def hook_fn(module, input, output):\n",
    "    activations.append(output)\n",
    "\n",
    " \n",
    "\n",
    "hook = target_layer.register_forward_hook(hook_fn)\n",
    "\n",
    "# Load and preprocess an image\n",
    "\n",
    "#image = Image.open(image_path)\n",
    "\n",
    "\n",
    "\n",
    "\n",
    "for image in Data_CNN_rgb:\n",
    "    #image = image.transpose(1, 2, 0)\n",
    "    #input_tensor = transform_test(image)\n",
    "\n",
    "    #input_batch = input_tensor.unsqueeze(0)  # Create a mini-batch\n",
    "\n",
    "    item_tensor = torch.tensor(image, dtype=torch.float32)\n",
    "    input_batch = item_tensor.unsqueeze(0)     \n",
    "# Pass the input through the model to trigger the hook and capture activations\n",
    "\n",
    "    with torch.no_grad():\n",
    "\n",
    "        _ = model_micro(input_batch)\n",
    "\n",
    " \n",
    "# Remove the hook to prevent memory leaks\n",
    "\n",
    "hook.remove()\n",
    " \n",
    "\n",
    "# The activations list now contains the convolutional activations from the target layer\n",
    "\n",
    "# Each element corresponds to the activations of a single batch of input\n",
    "\n",
    "print(activations[0].shape)\n",
    "\n",
    "print(len(activations))\n",
    "flattened_MicroNet = np.array([a.numpy() for a in activations]).reshape(len(activations),-1)\n",
    "print(flattened_MicroNet.shape)"
   ]
  },
  {
   "cell_type": "code",
   "execution_count": 15,
   "id": "cef5ab67",
   "metadata": {},
   "outputs": [
    {
     "name": "stdout",
     "output_type": "stream",
     "text": [
      "262\n"
     ]
    }
   ],
   "source": [
    "\n",
    "MoS2_Class_Data = []\n",
    "for index, sample in enumerate(sampleId):\n",
    "    this_item = {}\n",
    "\n",
    "    this_item['sampleId'] = sample\n",
    "    this_item['sampleLabel'] = sampleLabel[index]\n",
    "    this_item['image'] = data_image[index]\n",
    "    this_item['T'] = T[index]\n",
    "    #this_item['substrate'] = substrate[index2]\n",
    "    this_item['ImageNet'] = flattened_ImageNet[index]\n",
    "    this_item['MicroNet'] = flattened_MicroNet[index]\n",
    "\n",
    "    MoS2_Class_Data.append(this_item)\n",
    "\n",
    "    #break\n",
    "             \n",
    "             \n",
    "             \n",
    "             \n",
    "             \n",
    "print(len(MoS2_Class_Data))  \n",
    "\n",
    "with open(\"Data/MoS2_Analysis_Data_avgpool\", \"wb\") as fp:   #Pickling\n",
    "  pickle.dump(MoS2_Class_Data, fp)  "
   ]
  },
  {
   "cell_type": "code",
   "execution_count": 25,
   "id": "4257895d",
   "metadata": {},
   "outputs": [
    {
     "data": {
      "image/png": "[encoded data removed]",
      "text/plain": [
       "<Figure size 640x480 with 1 Axes>"
      ]
     },
     "metadata": {},
     "output_type": "display_data"
    },
    {
     "data": {
      "text/plain": [
       "<Figure size 640x480 with 0 Axes>"
      ]
     },
     "metadata": {},
     "output_type": "display_data"
    }
   ],
   "source": [
    "with open(\"Data/MoS2_Analysis_Data_layer4\", \"rb\") as fp:   # Unpickling layer3, avgpool\n",
    "    MoS2_Proj1_Class_Data = pickle.load(fp)\n",
    "\n",
    "#features = MoS2_ImageNet_100_data[0]\n",
    "df = pd.DataFrame(MoS2_Proj1_Class_Data)\n",
    "\n",
    "\n",
    "features = np.array(list(df['ImageNet']))\n",
    "\n",
    "\n",
    "from sklearn.decomposition import PCA\n",
    "import matplotlib as mpl \n",
    "\n",
    "mpl.rcParams.update(mpl.rcParamsDefault)\n",
    "%matplotlib inline\n",
    "\n",
    "import seaborn as sns; sns.set()\n",
    "\n",
    "pca = PCA().fit(features)\n",
    "plt.plot(np.cumsum(pca.explained_variance_ratio_))\n",
    "plt.xlabel('Number of Features')\n",
    "plt.ylabel('Cumulative Explained Variance')\n",
    "plt.show()\n",
    "plt.clf()"
   ]
  },
  {
   "cell_type": "code",
   "execution_count": 74,
   "id": "eba789cf",
   "metadata": {},
   "outputs": [
    {
     "name": "stdout",
     "output_type": "stream",
     "text": [
      "<class 'float'>\n",
      "0.17809293\n"
     ]
    }
   ],
   "source": [
    "print(type(round(0.6723, 2)))\n",
    "print(cumvariance[0])"
   ]
  },
  {
   "cell_type": "code",
   "execution_count": 28,
   "id": "33d48050",
   "metadata": {},
   "outputs": [
    {
     "name": "stdout",
     "output_type": "stream",
     "text": [
      "index:  94 item:  0.85016936\n"
     ]
    }
   ],
   "source": [
    "# 85% and 99% cumulative variance used\n",
    "cumvariance = np.cumsum(pca.explained_variance_ratio_)#{4:[94, 219], 3:[156, 248], 2: [190, 253], avg: [28,142]}\n",
    "#print(cumvariance.shape)\n",
    "#print(cumvariance)\n",
    "for index, item in enumerate(cumvariance):#>0.84 and round(item, 2)< 0.86:\n",
    "    #print(item)\n",
    "    if item == 0.85 or item >0.85:# and round(item, 2)< 0.86:\n",
    "        print('index: ', index, 'item: ', item)\n",
    "        break"
   ]
  },
  {
   "cell_type": "code",
   "execution_count": 99,
   "id": "1be53a3f",
   "metadata": {},
   "outputs": [
    {
     "data": {
      "image/png": "[encoded data removed]",
      "text/plain": [
       "<Figure size 640x480 with 1 Axes>"
      ]
     },
     "metadata": {},
     "output_type": "display_data"
    }
   ],
   "source": [
    "comp1 = 0.8519625\n",
    "comp2 = 0.99\n",
    "\n",
    "mpl.rcParams.update(mpl.rcParamsDefault)\n",
    "#import seaborn as sns; sns.set()\n",
    "fig, ax = plt.subplots()\n",
    "ax.plot(cumvariance4)\n",
    "#plt.xlabel('Number of Features')\n",
    "#plt.ylabel('Cumulative Explained Variance')\n",
    "\n",
    "ax.vlines(x=95, ymin=0, ymax=cumvariance4[95], color='red', zorder=2, linestyle='dashed', linewidth=0.8)\n",
    "ax.hlines(y=cumvariance4[95], xmin=0, xmax=95, color='red', zorder=2, linestyle='dashed', linewidth=0.8)\n",
    "\n",
    "ax.vlines(x=237, ymin=0, ymax=cumvariance4[237], color='red', zorder=2, linestyle='dashed', linewidth=0.8)\n",
    "ax.hlines(y=cumvariance4[237], xmin=0, xmax=237, color='red', zorder=2, linestyle='dashed', linewidth=0.8)\n",
    "plt.ylim(0, cumvariance4[-1])\n",
    "plt.xlim(0, len(cumvariance4))\n",
    "plt.show()\n",
    "#plt.clf()"
   ]
  }
 ],
 "metadata": {
  "kernelspec": {
   "display_name": "Python [conda env:torchvision] *",
   "language": "python",
   "name": "conda-env-torchvision-py"
  },
  "language_info": {
   "codemirror_mode": {
    "name": "ipython",
    "version": 3
   },
   "file_extension": ".py",
   "mimetype": "text/x-python",
   "name": "python",
   "nbconvert_exporter": "python",
   "pygments_lexer": "ipython3",
   "version": "3.10.6"
  }
 },
 "nbformat": 4,
 "nbformat_minor": 5
}
