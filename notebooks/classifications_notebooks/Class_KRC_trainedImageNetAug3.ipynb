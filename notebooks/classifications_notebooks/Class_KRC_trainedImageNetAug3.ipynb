{
 "cells": [
  {
   "cell_type": "markdown",
   "id": "943c46f6",
   "metadata": {},
   "source": [
    "# 1. Imports"
   ]
  },
  {
   "cell_type": "code",
   "execution_count": 1,
   "id": "cc4d5612",
   "metadata": {},
   "outputs": [],
   "source": [
    "from sklearn.decomposition import PCA\n",
    "import matplotlib as mpl \n",
    "import numpy as np\n",
    "import os\n",
    "import pandas as pd\n",
    "import pickle\n",
    "\n",
    "from sklearn.model_selection import train_test_split\n",
    "from sklearn.metrics import confusion_matrix, accuracy_score\n",
    "from sklearn.metrics import f1_score\n",
    "from imblearn.over_sampling import RandomOverSampler\n",
    "from sklearn.preprocessing import StandardScaler\n",
    "\n",
    "\n",
    "from codes.utils import stratified_train_test_group_kfold\n",
    "from codes.utils import model_test_classification\n",
    "\n",
    "from codes.classification_codes import krc_gridsearch\n",
    "\n"
   ]
  },
  {
   "cell_type": "markdown",
   "id": "3b72dc73",
   "metadata": {},
   "source": [
    "# 2. Data"
   ]
  },
  {
   "cell_type": "code",
   "execution_count": 2,
   "id": "6c5fee16",
   "metadata": {},
   "outputs": [
    {
     "name": "stdout",
     "output_type": "stream",
     "text": [
      "Index(['sampleId', 'sampleLabel', 'image', 'T', 'ImageNet', 'MicroNet'], dtype='object')\n",
      "<class 'generator'>\n",
      "(235, 100)\n",
      "(235,)\n",
      "(27, 100)\n",
      "(27,)\n"
     ]
    }
   ],
   "source": [
    "with open(\"Data/MoS2_Analysis_Data_trained2\", \"rb\") as fp:   # Unpickling\n",
    "    MoS2_Proj1_Class_Data = pickle.load(fp)\n",
    "\n",
    "#features = MoS2_ImageNet_100_data[0]\n",
    "df = pd.DataFrame(MoS2_Proj1_Class_Data)\n",
    "print(df.keys())\n",
    "T_dict= {900:0, 950:1, 1000:2}\n",
    "T_target = np.array([T_dict[item] for item in df['T']])\n",
    "\n",
    "features = np.array(list(df['ImageNet']))\n",
    "sampleId = np.array(list(df['sampleId']))\n",
    "\n",
    "X = features\n",
    "Y = np.array(T_target)\n",
    "groups = np.array(sampleId)\n",
    "\n",
    "\n",
    "train_val_groups, train_val_X, train_val_Y, test_X, test_Y = stratified_train_test_group_kfold(X, Y, groups, n_splits=10, test_fold=0)\n",
    "\n",
    "train_val_Y = train_val_Y.flatten()\n",
    "test_Y = test_Y.flatten()\n",
    "\n",
    "print(train_val_X.shape)\n",
    "print(train_val_Y.shape)\n",
    "print(test_X.shape)\n",
    "print(test_Y.shape)\n",
    "\n",
    "\n",
    "oversample = RandomOverSampler(sampling_strategy='not majority')\n",
    "\n",
    "scaler = StandardScaler().fit(train_val_X)\n",
    "train_val_X = scaler.transform(train_val_X)\n",
    "test_X = scaler.transform(test_X)"
   ]
  },
  {
   "cell_type": "markdown",
   "id": "9af5f9de",
   "metadata": {},
   "source": [
    "# 3. Runing Cross-Validation"
   ]
  },
  {
   "cell_type": "code",
   "execution_count": 3,
   "id": "18c27744",
   "metadata": {},
   "outputs": [
    {
     "name": "stdout",
     "output_type": "stream",
     "text": [
      "<class 'generator'>\n",
      "best_train_acc: 0.9428571428571428, best_val_acc: 0.7083333333333334\n",
      "fold: 0 done!\n",
      "<class 'generator'>\n",
      "best_train_acc: 0.9371069182389937, best_val_acc: 0.7083333333333334\n",
      "best_train_acc: 0.9339622641509434, best_val_acc: 0.75\n",
      "best_train_acc: 0.9339622641509434, best_val_acc: 0.7916666666666666\n",
      "fold: 1 done!\n",
      "<class 'generator'>\n",
      "best_train_acc: 0.9465408805031447, best_val_acc: 0.7083333333333334\n",
      "fold: 2 done!\n",
      "<class 'generator'>\n",
      "best_train_acc: 0.946031746031746, best_val_acc: 0.5833333333333334\n",
      "best_train_acc: 0.9301587301587302, best_val_acc: 0.625\n",
      "best_train_acc: 0.9333333333333333, best_val_acc: 0.7083333333333334\n",
      "best_train_acc: 0.926984126984127, best_val_acc: 0.75\n",
      "best_train_acc: 0.9301587301587302, best_val_acc: 0.7916666666666666\n",
      "best_train_acc: 0.9238095238095239, best_val_acc: 0.8333333333333334\n",
      "fold: 3 done!\n",
      "<class 'generator'>\n",
      "best_train_acc: 0.9492063492063492, best_val_acc: 0.5833333333333334\n",
      "best_train_acc: 0.9492063492063492, best_val_acc: 0.625\n",
      "best_train_acc: 0.9492063492063492, best_val_acc: 0.6666666666666666\n",
      "best_train_acc: 0.9206349206349206, best_val_acc: 0.7083333333333334\n",
      "fold: 4 done!\n",
      "<class 'generator'>\n",
      "best_train_acc: 0.9238095238095239, best_val_acc: 0.7391304347826086\n",
      "best_train_acc: 0.9174603174603174, best_val_acc: 0.782608695652174\n",
      "best_train_acc: 0.9142857142857143, best_val_acc: 0.8260869565217391\n",
      "fold: 5 done!\n",
      "<class 'generator'>\n",
      "best_train_acc: 0.9492063492063492, best_val_acc: 0.6521739130434783\n",
      "best_train_acc: 0.9333333333333333, best_val_acc: 0.6956521739130435\n",
      "best_train_acc: 0.9333333333333333, best_val_acc: 0.7391304347826086\n",
      "fold: 6 done!\n",
      "<class 'generator'>\n",
      "best_train_acc: 0.9428571428571428, best_val_acc: 0.4782608695652174\n",
      "best_train_acc: 0.9206349206349206, best_val_acc: 0.5217391304347826\n",
      "best_train_acc: 0.926984126984127, best_val_acc: 0.5652173913043478\n",
      "best_train_acc: 0.9301587301587302, best_val_acc: 0.6086956521739131\n",
      "fold: 7 done!\n",
      "<class 'generator'>\n",
      "best_train_acc: 0.9587301587301588, best_val_acc: 0.5652173913043478\n",
      "fold: 8 done!\n",
      "<class 'generator'>\n",
      "best_train_acc: 0.940251572327044, best_val_acc: 0.6086956521739131\n",
      "best_train_acc: 0.940251572327044, best_val_acc: 0.6521739130434783\n",
      "fold: 9 done!\n",
      "[0.9428571428571428, 0.9339622641509434, 0.9465408805031447, 0.9238095238095239, 0.9206349206349206, 0.9142857142857143, 0.9333333333333333, 0.9301587301587302, 0.9587301587301588, 0.940251572327044]\n",
      "[0.7083333333333334, 0.7916666666666666, 0.7083333333333334, 0.8333333333333334, 0.7083333333333334, 0.8260869565217391, 0.7391304347826086, 0.6086956521739131, 0.5652173913043478, 0.6521739130434783]\n",
      "train_acc_mean: 0.934, std: 0.013, val_acc_mean: 0.714, std: 0.084\n"
     ]
    }
   ],
   "source": [
    "def mul_range(start, stop, multiple):\n",
    "    value = start\n",
    "    while value < stop: # using < for consistency with range\n",
    "        yield value\n",
    "        value *= multiple\n",
    "\n",
    "Alpha = [item for item in mul_range(0.0001, 30, 1.2)]\n",
    "Max_iter = [90, 100, 120, None]\n",
    "\n",
    "\n",
    "def cross_10_folds_krc(train_val_X, train_val_Y):\n",
    "    \n",
    "    best_train = []\n",
    "    best_val = []\n",
    "    best_variables = []\n",
    "    for fold in range(10):\n",
    "        \n",
    "        model_path = f'classification/ImageNet/aug3/KRC_{fold}_model.sav'\n",
    "        \n",
    "        group, train_X, train_Y, val_X, val_Y = stratified_train_test_group_kfold(train_val_X, train_val_Y, train_val_groups, n_splits=10, test_fold=fold)\n",
    "    \n",
    "        train_X, train_Y = oversample.fit_resample(train_X, train_Y)\n",
    "        variables_best, performance_best = krc_gridsearch(train_X, train_Y, val_X, val_Y, Alpha, Max_iter, fold, model_path)\n",
    "        best_train.append(performance_best['accuracy_train'])\n",
    "        best_val.append(performance_best['accuracy_val'])\n",
    "        best_variables.append(variables_best)\n",
    "        print(f'fold: {fold} done!')\n",
    "    return best_train, best_val, best_variables\n",
    "\n",
    "\n",
    "best_train, best_val, best_variables = cross_10_folds_krc(train_val_X, train_val_Y)\n",
    "print(best_train)\n",
    "print(best_val)\n",
    "print(f'train_acc_mean: {np.mean(best_train) :.3f}, std: {np.std(best_train) :.3f}, val_acc_mean: {np.mean(best_val):.3f}, std: {np.std(best_val):.3f}')"
   ]
  },
  {
   "cell_type": "markdown",
   "id": "089a7b7c",
   "metadata": {},
   "source": [
    "# 4. Model Testing"
   ]
  },
  {
   "cell_type": "code",
   "execution_count": 4,
   "id": "16c09e27",
   "metadata": {},
   "outputs": [
    {
     "name": "stdout",
     "output_type": "stream",
     "text": [
      "<class 'generator'>\n",
      "<class 'generator'>\n",
      "<class 'generator'>\n",
      "<class 'generator'>\n",
      "<class 'generator'>\n",
      "<class 'generator'>\n",
      "<class 'generator'>\n",
      "<class 'generator'>\n",
      "<class 'generator'>\n",
      "<class 'generator'>\n",
      "[0.5555555555555556, 0.5925925925925926, 0.5925925925925926, 0.5555555555555556, 0.5185185185185185, 0.48148148148148145, 0.6296296296296297, 0.5555555555555556, 0.5925925925925926, 0.5555555555555556]\n",
      "test_acc_mean: 0.563, std: 0.040\n",
      "5th confusion matrix:  [[0, 3, 0], [3, 7, 3], [0, 4, 7]]\n"
     ]
    }
   ],
   "source": [
    "best_fold = 3\n",
    "\n",
    "\n",
    "model_path = f'classification/ImageNet/aug3/KRC_{best_fold}_model.sav'\n",
    "\n",
    "# Fitting different train in the same hyperparameters\n",
    "best_test, confusion_matrix_test = model_test_classification(train_val_X, train_val_Y, train_val_groups,test_X, test_Y, best_fold, model_path)\n",
    "\n",
    "\n",
    "\n",
    "print(best_test)\n",
    "print(f'test_acc_mean: {np.mean(best_test) :.3f}, std: {np.std(best_test) :.3f}')\n",
    "\n",
    "print('5th confusion matrix: ', [list(item) for item in confusion_matrix_test[4]])"
   ]
  },
  {
   "cell_type": "code",
   "execution_count": 5,
   "id": "e91f1ecb",
   "metadata": {},
   "outputs": [
    {
     "name": "stdout",
     "output_type": "stream",
     "text": [
      "10\n",
      "[[0.5, 2.5, 0.0], [3.1, 7.4, 2.5], [0.3, 3.4, 7.3]]\n"
     ]
    }
   ],
   "source": [
    "cm_list = []\n",
    "for cm in confusion_matrix_test:\n",
    "    cm_list.append([list(item) for item in cm])\n",
    "#print(cm_list)\n",
    "\n",
    "print(len(cm_list))\n",
    "print([list(item) for item in np.mean(cm_list, axis=0)])"
   ]
  },
  {
   "cell_type": "code",
   "execution_count": 6,
   "id": "acb5c1df",
   "metadata": {},
   "outputs": [
    {
     "data": {
      "text/plain": [
       "{'alpha': 29.07407974435072,\n",
       " 'class_weight': None,\n",
       " 'copy_X': True,\n",
       " 'fit_intercept': True,\n",
       " 'max_iter': 90,\n",
       " 'positive': False,\n",
       " 'random_state': 0,\n",
       " 'solver': 'auto',\n",
       " 'tol': 0.0001}"
      ]
     },
     "execution_count": 6,
     "metadata": {},
     "output_type": "execute_result"
    }
   ],
   "source": [
    "best_fold = 3\n",
    "PATH = f'Models/classification/ImageNet/aug3/KRC_{best_fold}_model.sav'\n",
    "\n",
    "#PATH = os.path.join('Models', model_path)\n",
    "loaded_model = pickle.load(open(PATH, 'rb'))\n",
    "loaded_model.get_params()"
   ]
  },
  {
   "cell_type": "code",
   "execution_count": null,
   "id": "14e0c009",
   "metadata": {},
   "outputs": [],
   "source": []
  }
 ],
 "metadata": {
  "kernelspec": {
   "display_name": "Python [conda env:torchvision] *",
   "language": "python",
   "name": "conda-env-torchvision-py"
  },
  "language_info": {
   "codemirror_mode": {
    "name": "ipython",
    "version": 3
   },
   "file_extension": ".py",
   "mimetype": "text/x-python",
   "name": "python",
   "nbconvert_exporter": "python",
   "pygments_lexer": "ipython3",
   "version": "3.10.6"
  }
 },
 "nbformat": 4,
 "nbformat_minor": 5
}
