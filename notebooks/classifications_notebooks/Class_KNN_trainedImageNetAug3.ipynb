{
 "cells": [
  {
   "cell_type": "markdown",
   "id": "34d95958",
   "metadata": {},
   "source": [
    "# 1. Imports"
   ]
  },
  {
   "cell_type": "code",
   "execution_count": 1,
   "id": "cc4d5612",
   "metadata": {},
   "outputs": [
    {
     "name": "stdout",
     "output_type": "stream",
     "text": [
      "0.10.1\n"
     ]
    }
   ],
   "source": [
    "from sklearn.decomposition import PCA\n",
    "import matplotlib as mpl \n",
    "import numpy as np\n",
    "import os\n",
    "import pandas as pd\n",
    "import pickle\n",
    "\n",
    "from sklearn.model_selection import train_test_split\n",
    "from sklearn.metrics import confusion_matrix, accuracy_score\n",
    "from sklearn.metrics import f1_score\n",
    "from imblearn.over_sampling import RandomOverSampler\n",
    "from sklearn.preprocessing import StandardScaler\n",
    "\n",
    "\n",
    "from utils import stratified_train_test_group_kfold\n",
    "from utils import model_test_classification\n",
    "\n",
    "from classification_codes import knc_gridsearch\n",
    "\n"
   ]
  },
  {
   "cell_type": "markdown",
   "id": "270423ce",
   "metadata": {},
   "source": [
    "# 2. Data"
   ]
  },
  {
   "cell_type": "code",
   "execution_count": 2,
   "id": "6c5fee16",
   "metadata": {},
   "outputs": [
    {
     "name": "stdout",
     "output_type": "stream",
     "text": [
      "Index(['sampleId', 'sampleLabel', 'image', 'T', 'ImageNet', 'MicroNet'], dtype='object')\n"
     ]
    }
   ],
   "source": [
    "with open(\"Data/MoS2_Analysis_Data_trained2\", \"rb\") as fp:   # Unpickling\n",
    "    MoS2_Proj1_Class_Data = pickle.load(fp)\n",
    "\n",
    "#features = MoS2_ImageNet_100_data[0]\n",
    "df = pd.DataFrame(MoS2_Proj1_Class_Data)\n",
    "print(df.keys())\n",
    "T_dict= {900:0, 950:1, 1000:2}\n",
    "T_target = np.array([T_dict[item] for item in df['T']])\n",
    "\n",
    "features = np.array(list(df['ImageNet']))\n",
    "sampleId = np.array(list(df['sampleId']))\n",
    "\n",
    "X = features\n",
    "Y = np.array(T_target)\n",
    "groups = np.array(sampleId)\n",
    "\n",
    "\n",
    "train_val_groups, train_val_X, train_val_Y, test_X, test_Y = stratified_train_test_group_kfold(X, Y, groups, n_splits=10, test_fold=0)\n",
    "\n",
    "train_val_Y = train_val_Y.flatten()\n",
    "test_Y = test_Y.flatten()\n",
    "\n",
    "print(train_val_X.shape)\n",
    "print(train_val_Y.shape)\n",
    "print(test_X.shape)\n",
    "print(test_Y.shape)\n",
    "\n",
    "\n",
    "oversample = RandomOverSampler(sampling_strategy='not majority')\n",
    "\n",
    "scaler = StandardScaler().fit(train_val_X)\n",
    "train_val_X = scaler.transform(train_val_X)\n",
    "test_X = scaler.transform(test_X)"
   ]
  },
  {
   "cell_type": "markdown",
   "id": "b89d62ac",
   "metadata": {},
   "source": []
  },
  {
   "cell_type": "code",
   "execution_count": 4,
   "id": "e1bec99e",
   "metadata": {},
   "outputs": [],
   "source": [
    "#! mkdir -p 'Model/Class/TrainedImageNet/Up/'"
   ]
  },
  {
   "cell_type": "markdown",
   "id": "2608c3d3",
   "metadata": {},
   "source": [
    "# 3. Runing Cross-Validation"
   ]
  },
  {
   "cell_type": "code",
   "execution_count": 6,
   "id": "37bdc446",
   "metadata": {},
   "outputs": [
    {
     "name": "stdout",
     "output_type": "stream",
     "text": [
      "<class 'generator'>\n",
      "best_train_acc: 0.851, best_val_acc: 0.667\n",
      "best_train_acc: 0.867, best_val_acc: 0.708\n",
      "fold: 0 done!\n",
      "<class 'generator'>\n",
      "best_train_acc: 0.849, best_val_acc: 0.750\n",
      "best_train_acc: 0.855, best_val_acc: 0.792\n",
      "best_train_acc: 0.862, best_val_acc: 0.833\n",
      "best_train_acc: 0.777, best_val_acc: 0.875\n",
      "best_train_acc: 1.000, best_val_acc: 0.917\n",
      "fold: 1 done!\n",
      "<class 'generator'>\n",
      "best_train_acc: 0.855, best_val_acc: 0.500\n",
      "best_train_acc: 1.000, best_val_acc: 0.542\n",
      "best_train_acc: 1.000, best_val_acc: 0.583\n",
      "best_train_acc: 0.783, best_val_acc: 0.625\n",
      "best_train_acc: 0.730, best_val_acc: 0.708\n",
      "fold: 2 done!\n",
      "<class 'generator'>\n",
      "best_train_acc: 0.848, best_val_acc: 0.583\n",
      "best_train_acc: 0.854, best_val_acc: 0.667\n",
      "fold: 3 done!\n",
      "<class 'generator'>\n",
      "best_train_acc: 0.863, best_val_acc: 0.750\n",
      "best_train_acc: 1.000, best_val_acc: 0.792\n",
      "fold: 4 done!\n",
      "<class 'generator'>\n",
      "best_train_acc: 0.860, best_val_acc: 0.478\n",
      "best_train_acc: 0.857, best_val_acc: 0.522\n",
      "best_train_acc: 0.803, best_val_acc: 0.565\n",
      "best_train_acc: 1.000, best_val_acc: 0.609\n",
      "best_train_acc: 1.000, best_val_acc: 0.652\n",
      "fold: 5 done!\n",
      "<class 'generator'>\n",
      "best_train_acc: 0.860, best_val_acc: 0.478\n",
      "best_train_acc: 0.867, best_val_acc: 0.522\n",
      "best_train_acc: 0.784, best_val_acc: 0.565\n",
      "fold: 6 done!\n",
      "<class 'generator'>\n",
      "best_train_acc: 0.848, best_val_acc: 0.565\n",
      "best_train_acc: 1.000, best_val_acc: 0.609\n",
      "fold: 7 done!\n",
      "<class 'generator'>\n",
      "best_train_acc: 0.860, best_val_acc: 0.304\n",
      "best_train_acc: 0.867, best_val_acc: 0.348\n",
      "best_train_acc: 0.746, best_val_acc: 0.391\n",
      "best_train_acc: 0.676, best_val_acc: 0.435\n",
      "fold: 8 done!\n",
      "<class 'generator'>\n",
      "best_train_acc: 0.865, best_val_acc: 0.391\n",
      "best_train_acc: 0.871, best_val_acc: 0.435\n",
      "best_train_acc: 0.881, best_val_acc: 0.478\n",
      "best_train_acc: 0.874, best_val_acc: 0.522\n",
      "best_train_acc: 0.808, best_val_acc: 0.565\n",
      "best_train_acc: 0.733, best_val_acc: 0.609\n",
      "fold: 9 done!\n",
      "[0.8666666666666667, 1.0, 0.7295597484276729, 0.8539682539682539, 1.0, 1.0, 0.7841269841269841, 1.0, 0.6761904761904762, 0.7327044025157232]\n",
      "[0.7083333333333334, 0.9166666666666666, 0.7083333333333334, 0.6666666666666666, 0.7916666666666666, 0.6521739130434783, 0.5652173913043478, 0.6086956521739131, 0.43478260869565216, 0.6086956521739131]\n",
      "train_acc_mean: 0.8643216531895778, std: 0.12290465552272943, val_acc_mean: 0.6661231884057972, std: 0.12352641713369929\n"
     ]
    }
   ],
   "source": [
    "N_neighbors = [i for i in range(3, 15)]\n",
    "Weights = ['uniform', 'distance']\n",
    "Algorithm = ['auto', 'ball_tree', 'kd_tree', 'brute']\n",
    "P = [i for i in range(1, 6)]\n",
    "\n",
    "\n",
    "def cross_10_folds_knn(train_val_X, train_val_Y):\n",
    "    \n",
    "    best_train = []\n",
    "    best_val = []\n",
    "    best_variables = []\n",
    "    for fold in range(10):\n",
    "        \n",
    "        model_path = f'classification/ImageNet/aug3/KNC_{fold}_model.sav'\n",
    "        group, train_X, train_Y, val_X, val_Y = stratified_train_test_group_kfold(train_val_X, train_val_Y, train_val_groups, n_splits=10, test_fold=fold)\n",
    "        \n",
    "        \n",
    "        \n",
    "        train_X, train_Y = oversample.fit_resample(train_X, train_Y)\n",
    "        variables_best, performance_best = knc_gridsearch(train_X, train_Y, val_X, val_Y, N_neighbors, Weights, Algorithm, P, fold, model_path)\n",
    "        best_train.append(performance_best['accuracy_train'])\n",
    "        best_val.append(performance_best['accuracy_val'])\n",
    "        best_variables.append(variables_best)\n",
    "        print(f'fold: {fold} done!')\n",
    "    return best_train, best_val, best_variables\n",
    "\n",
    "\n",
    "best_train, best_val, best_variables = cross_10_folds_knn(train_val_X, train_val_Y)\n",
    "print(best_train)\n",
    "print(best_val)\n",
    "print(f'train_acc_mean: {np.mean(best_train)}, std: {np.std(best_train)}, val_acc_mean: {np.mean(best_val)}, std: {np.std(best_val)}')"
   ]
  },
  {
   "cell_type": "code",
   "execution_count": 7,
   "id": "805b2161",
   "metadata": {},
   "outputs": [
    {
     "name": "stdout",
     "output_type": "stream",
     "text": [
      "<class 'generator'>\n",
      "<class 'generator'>\n",
      "<class 'generator'>\n",
      "<class 'generator'>\n",
      "<class 'generator'>\n",
      "<class 'generator'>\n",
      "<class 'generator'>\n",
      "<class 'generator'>\n",
      "<class 'generator'>\n",
      "<class 'generator'>\n",
      "f1_train: 0.7990899606851487, std: 0.1733597585995738, f1_val: 0.6300325205372991, std: 0.12406084090057731\n"
     ]
    }
   ],
   "source": [
    "import numpy as np\n",
    "from sklearn.metrics import f1_score\n",
    "\n",
    "X, Y = train_val_X, train_val_Y\n",
    "groups = train_val_groups\n",
    "def f1score_fn(X, Y):\n",
    "\n",
    "    F1_score_train = []\n",
    "    F1_score_val = []\n",
    "    for fold in range(10):\n",
    "        \n",
    "        group, train_X, train_Y, val_X, val_Y = stratified_train_test_group_kfold(X, Y, groups, n_splits=10, test_fold=fold)\n",
    "        #train_X, train_Y = oversample.fit_resample(train_X, train_Y)\n",
    "        model_path = f'classification/ImageNet/aug3/KNC_{fold}_model.sav'\n",
    "        \n",
    "        PATH = os.path.join('Models', model_path)\n",
    "        \n",
    "        loaded_model = pickle.load(open(PATH, 'rb'))\n",
    "\n",
    "        pred_val_Y = loaded_model.predict(val_X)\n",
    "        pred_train_Y = loaded_model.predict(train_X)\n",
    "\n",
    "        f_score_train = f1_score(train_Y, pred_train_Y, average='macro')#'weighted')\n",
    "        f_score_val = f1_score(val_Y, pred_val_Y, average='macro')#'weighted')\n",
    "\n",
    "        F1_score_train.append(f_score_train)\n",
    "        F1_score_val.append(f_score_val)\n",
    "    \n",
    "    return F1_score_train, F1_score_val\n",
    "\n",
    "\n",
    "\n",
    "F1_score_train, F1_score_val = f1score_fn(X, Y)\n",
    "\n",
    "\n",
    "print(f'f1_train: {np.mean(F1_score_train)}, std: {np.std(F1_score_train)}, f1_val: {np.mean(F1_score_val)}, std: {np.std(F1_score_val)}')\n"
   ]
  },
  {
   "cell_type": "code",
   "execution_count": 7,
   "id": "e91f1ecb",
   "metadata": {},
   "outputs": [
    {
     "name": "stdout",
     "output_type": "stream",
     "text": [
      "10\n",
      "[[1.8, 1.1, 0.1], [3.4, 7.7, 1.9], [0.8, 2.3, 7.9]]\n"
     ]
    }
   ],
   "source": []
  },
  {
   "cell_type": "markdown",
   "id": "3fb47584",
   "metadata": {},
   "source": [
    "# 4. Model Testing"
   ]
  },
  {
   "cell_type": "code",
   "execution_count": 4,
   "id": "d0d55a48",
   "metadata": {},
   "outputs": [
    {
     "name": "stdout",
     "output_type": "stream",
     "text": [
      "<class 'generator'>\n",
      "<class 'generator'>\n",
      "<class 'generator'>\n",
      "<class 'generator'>\n",
      "<class 'generator'>\n",
      "<class 'generator'>\n",
      "<class 'generator'>\n",
      "<class 'generator'>\n",
      "<class 'generator'>\n",
      "<class 'generator'>\n",
      "[0.6296296296296297, 0.7037037037037037, 0.6296296296296297, 0.6296296296296297, 0.7037037037037037, 0.6666666666666666, 0.5185185185185185, 0.6296296296296297, 0.6296296296296297, 0.6296296296296297]\n",
      "test_acc_mean: 0.637, std: 0.049, f1_train: 1.0, std: 0.0, f1_val: 0.5438593776364675, std: 0.15924069064776183\n",
      "5th confusion matrix:  [[2, 1, 0], [4, 9, 0], [0, 3, 8]]\n"
     ]
    }
   ],
   "source": [
    "import numpy as np\n",
    "from sklearn.metrics import f1_score\n",
    "\n",
    "\n",
    "\n",
    "\n",
    "best_fold =1\n",
    "\n",
    "model_path = f'classification/ImageNet/aug3/KNC_{_best_fold}_model.sav'\n",
    "\n",
    "\n",
    "# Fitting different train in the same hyperparameters\n",
    "best_test, confusion_matrix_test = model_test_classification(train_val_X, train_val_Y, train_val_groups,test_X, test_Y, best_fold, model_path)\n",
    "\n",
    "\n",
    "\n",
    "print(best_test)\n",
    "print(f'test_acc_mean: {np.mean(best_test) :.3f}, std: {np.std(best_test) :.3f}')\n",
    "\n",
    "print('5th confusion matrix: ', [list(item) for item in confusion_matrix_test[4]])"
   ]
  },
  {
   "cell_type": "code",
   "execution_count": 8,
   "id": "ed62de42",
   "metadata": {},
   "outputs": [
    {
     "data": {
      "text/plain": [
       "{'algorithm': 'auto',\n",
       " 'leaf_size': 30,\n",
       " 'metric': 'minkowski',\n",
       " 'metric_params': None,\n",
       " 'n_jobs': None,\n",
       " 'n_neighbors': 5,\n",
       " 'p': 2,\n",
       " 'weights': 'distance'}"
      ]
     },
     "execution_count": 8,
     "metadata": {},
     "output_type": "execute_result"
    }
   ],
   "source": [
    "best_fold =1\n",
    "\n",
    "model_path = f'classification/ImageNet/aug3/KNC_{best_fold}_model.sav'\n",
    "\n",
    "PATH = os.path.join('Models', model_path)\n",
    "\n",
    "#filename = f'Model/Class/TrainedImageNet/Up/KNN_{best_fold}_model.sav'\n",
    "loaded_model = pickle.load(open(PATH, 'rb'))\n",
    "loaded_model.get_params()"
   ]
  },
  {
   "cell_type": "code",
   "execution_count": null,
   "id": "3806eca9",
   "metadata": {},
   "outputs": [],
   "source": [
    "cm_list = []\n",
    "for cm in confusion_matrix_test:\n",
    "    cm_list.append([list(item) for item in cm])\n",
    "#print(cm_list)\n",
    "\n",
    "print(len(cm_list))\n",
    "print([list(item) for item in np.mean(cm_list, axis=0)])"
   ]
  }
 ],
 "metadata": {
  "kernelspec": {
   "display_name": "Python [conda env:torchvision] *",
   "language": "python",
   "name": "conda-env-torchvision-py"
  },
  "language_info": {
   "codemirror_mode": {
    "name": "ipython",
    "version": 3
   },
   "file_extension": ".py",
   "mimetype": "text/x-python",
   "name": "python",
   "nbconvert_exporter": "python",
   "pygments_lexer": "ipython3",
   "version": "3.10.6"
  }
 },
 "nbformat": 4,
 "nbformat_minor": 5
}
