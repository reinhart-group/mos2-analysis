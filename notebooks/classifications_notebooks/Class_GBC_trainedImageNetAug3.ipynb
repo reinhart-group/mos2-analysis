{
 "cells": [
  {
   "cell_type": "markdown",
   "id": "2e00872b",
   "metadata": {},
   "source": [
    "# 1. Imports"
   ]
  },
  {
   "cell_type": "code",
   "execution_count": 1,
   "id": "cc4d5612",
   "metadata": {},
   "outputs": [
    {
     "name": "stdout",
     "output_type": "stream",
     "text": [
      "0.10.1\n"
     ]
    }
   ],
   "source": [
    "from sklearn.decomposition import PCA\n",
    "import matplotlib as mpl \n",
    "import numpy as np\n",
    "import os\n",
    "import pandas as pd\n",
    "import pickle\n",
    "\n",
    "from sklearn.model_selection import train_test_split\n",
    "from sklearn.metrics import confusion_matrix, accuracy_score\n",
    "from sklearn.metrics import f1_score\n",
    "from imblearn.over_sampling import RandomOverSampler\n",
    "from sklearn.preprocessing import StandardScaler\n",
    "\n",
    "\n",
    "from codes.utils import stratified_train_test_group_kfold\n",
    "from codes.utils import model_test_classification\n",
    "\n",
    "from codes.classification_codes import gbc_gridsearch\n",
    "\n"
   ]
  },
  {
   "cell_type": "markdown",
   "id": "2bc0a0b0",
   "metadata": {},
   "source": [
    "# 2. Data"
   ]
  },
  {
   "cell_type": "code",
   "execution_count": 2,
   "id": "6c5fee16",
   "metadata": {},
   "outputs": [
    {
     "name": "stdout",
     "output_type": "stream",
     "text": [
      "Index(['sampleId', 'sampleLabel', 'image', 'T', 'ImageNet', 'MicroNet'], dtype='object')\n"
     ]
    }
   ],
   "source": [
    "with open(\"Data/MoS2_Analysis_Data_trained2\", \"rb\") as fp:   # Unpickling\n",
    "    MoS2_Proj1_Class_Data = pickle.load(fp)\n",
    "\n",
    "#features = MoS2_ImageNet_100_data[0]\n",
    "df = pd.DataFrame(MoS2_Proj1_Class_Data)\n",
    "print(df.keys())\n",
    "T_dict= {900:0, 950:1, 1000:2}\n",
    "T_target = np.array([T_dict[item] for item in df['T']])\n",
    "\n",
    "features = np.array(list(df['ImageNet']))\n",
    "sampleId = np.array(list(df['sampleId']))\n",
    "\n",
    "X = features\n",
    "Y = np.array(T_target)\n",
    "groups = np.array(sampleId)\n",
    "\n",
    "\n",
    "train_val_groups, train_val_X, train_val_Y, test_X, test_Y = stratified_train_test_group_kfold(X, Y, groups, n_splits=10, test_fold=0)\n",
    "\n",
    "train_val_Y = train_val_Y.flatten()\n",
    "test_Y = test_Y.flatten()\n",
    "\n",
    "print(train_val_X.shape)\n",
    "print(train_val_Y.shape)\n",
    "print(test_X.shape)\n",
    "print(test_Y.shape)\n",
    "\n",
    "\n",
    "oversample = RandomOverSampler(sampling_strategy='not majority')\n",
    "\n",
    "scaler = StandardScaler().fit(train_val_X)\n",
    "train_val_X = scaler.transform(train_val_X)\n",
    "test_X = scaler.transform(test_X)"
   ]
  },
  {
   "cell_type": "code",
   "execution_count": 3,
   "id": "e1bec99e",
   "metadata": {},
   "outputs": [],
   "source": [
    "! mkdir -p 'Model/Class/TrainedImageNet/Up/'"
   ]
  },
  {
   "cell_type": "markdown",
   "id": "a62bc415",
   "metadata": {},
   "source": [
    "# 3. Runing Cross-Validation"
   ]
  },
  {
   "cell_type": "code",
   "execution_count": 5,
   "id": "18c27744",
   "metadata": {},
   "outputs": [
    {
     "name": "stdout",
     "output_type": "stream",
     "text": [
      "<class 'generator'>\n",
      "best_train_acc: 0.3333333333333333, best_val_acc: 0.125\n",
      "best_train_acc: 0.9904761904761905, best_val_acc: 0.625\n",
      "best_train_acc: 0.9968253968253968, best_val_acc: 0.6666666666666666\n",
      "best_train_acc: 1.0, best_val_acc: 0.75\n",
      "best_train_acc: 1.0, best_val_acc: 0.7916666666666666\n",
      "fold: 0 done!\n",
      "<class 'generator'>\n",
      "best_train_acc: 0.3333333333333333, best_val_acc: 0.125\n",
      "best_train_acc: 0.9968553459119497, best_val_acc: 0.5416666666666666\n",
      "best_train_acc: 1.0, best_val_acc: 0.5833333333333334\n",
      "best_train_acc: 1.0, best_val_acc: 0.625\n",
      "best_train_acc: 1.0, best_val_acc: 0.6666666666666666\n",
      "fold: 1 done!\n",
      "<class 'generator'>\n",
      "best_train_acc: 0.3333333333333333, best_val_acc: 0.125\n",
      "best_train_acc: 0.9968553459119497, best_val_acc: 0.625\n",
      "best_train_acc: 1.0, best_val_acc: 0.6666666666666666\n",
      "best_train_acc: 1.0, best_val_acc: 0.7083333333333334\n",
      "best_train_acc: 1.0, best_val_acc: 0.75\n",
      "best_train_acc: 1.0, best_val_acc: 0.7916666666666666\n",
      "best_train_acc: 1.0, best_val_acc: 0.8333333333333334\n",
      "fold: 2 done!\n",
      "<class 'generator'>\n",
      "best_train_acc: 0.3333333333333333, best_val_acc: 0.125\n",
      "best_train_acc: 0.9746031746031746, best_val_acc: 0.7083333333333334\n",
      "best_train_acc: 0.9777777777777777, best_val_acc: 0.75\n",
      "best_train_acc: 0.9777777777777777, best_val_acc: 0.7916666666666666\n",
      "best_train_acc: 1.0, best_val_acc: 0.8333333333333334\n",
      "best_train_acc: 1.0, best_val_acc: 0.875\n",
      "best_train_acc: 1.0, best_val_acc: 0.9166666666666666\n",
      "fold: 3 done!\n",
      "<class 'generator'>\n",
      "best_train_acc: 0.3333333333333333, best_val_acc: 0.125\n",
      "best_train_acc: 0.9904761904761905, best_val_acc: 0.7083333333333334\n",
      "best_train_acc: 0.9968253968253968, best_val_acc: 0.75\n",
      "best_train_acc: 1.0, best_val_acc: 0.8333333333333334\n",
      "best_train_acc: 1.0, best_val_acc: 0.875\n",
      "fold: 4 done!\n",
      "<class 'generator'>\n",
      "best_train_acc: 0.3333333333333333, best_val_acc: 0.08695652173913043\n",
      "best_train_acc: 0.9904761904761905, best_val_acc: 0.6956521739130435\n",
      "best_train_acc: 0.9968253968253968, best_val_acc: 0.782608695652174\n",
      "best_train_acc: 1.0, best_val_acc: 0.8260869565217391\n",
      "best_train_acc: 1.0, best_val_acc: 0.8695652173913043\n",
      "fold: 5 done!\n",
      "<class 'generator'>\n",
      "best_train_acc: 0.3333333333333333, best_val_acc: 0.08695652173913043\n",
      "best_train_acc: 0.9936507936507937, best_val_acc: 0.782608695652174\n",
      "best_train_acc: 1.0, best_val_acc: 0.8260869565217391\n",
      "fold: 6 done!\n",
      "<class 'generator'>\n",
      "best_train_acc: 0.3333333333333333, best_val_acc: 0.08695652173913043\n",
      "best_train_acc: 1.0, best_val_acc: 0.5217391304347826\n",
      "best_train_acc: 1.0, best_val_acc: 0.5652173913043478\n",
      "best_train_acc: 1.0, best_val_acc: 0.6086956521739131\n",
      "best_train_acc: 1.0, best_val_acc: 0.6521739130434783\n",
      "best_train_acc: 1.0, best_val_acc: 0.6956521739130435\n",
      "best_train_acc: 1.0, best_val_acc: 0.7391304347826086\n",
      "best_train_acc: 1.0, best_val_acc: 0.782608695652174\n",
      "fold: 7 done!\n",
      "<class 'generator'>\n",
      "best_train_acc: 0.3333333333333333, best_val_acc: 0.08695652173913043\n",
      "best_train_acc: 1.0, best_val_acc: 0.4782608695652174\n",
      "best_train_acc: 1.0, best_val_acc: 0.5217391304347826\n",
      "fold: 8 done!\n",
      "<class 'generator'>\n",
      "best_train_acc: 0.3333333333333333, best_val_acc: 0.13043478260869565\n",
      "best_train_acc: 0.9937106918238994, best_val_acc: 0.43478260869565216\n",
      "best_train_acc: 1.0, best_val_acc: 0.5217391304347826\n",
      "best_train_acc: 1.0, best_val_acc: 0.5652173913043478\n",
      "best_train_acc: 1.0, best_val_acc: 0.6521739130434783\n",
      "best_train_acc: 1.0, best_val_acc: 0.6956521739130435\n",
      "best_train_acc: 1.0, best_val_acc: 0.7391304347826086\n",
      "fold: 9 done!\n",
      "[1.0, 1.0, 1.0, 1.0, 1.0, 1.0, 1.0, 1.0, 1.0, 1.0]\n",
      "[0.7916666666666666, 0.6666666666666666, 0.8333333333333334, 0.9166666666666666, 0.875, 0.8695652173913043, 0.8260869565217391, 0.782608695652174, 0.5217391304347826, 0.7391304347826086]\n",
      "train_acc_mean: 1.000, std: 0.000, val_acc_mean: 0.782, std: 0.110\n"
     ]
    }
   ],
   "source": [
    "N_estimators = [i for i in range(100, 700, 100)]\n",
    "\n",
    "Learning_rate = [0.0, 0.001, 0.01, 0.1, 1]\n",
    "\n",
    "Min_samples_split = [i for i in range(2, 15, 3)]\n",
    "\n",
    "Max_depth = [6, 7, 8]#8, 9, 10]\n",
    "\n",
    "\n",
    "\n",
    "def cross_10_folds_gbc(train_val_X, train_val_Y):\n",
    "    \n",
    "    best_train = []\n",
    "    best_val = []\n",
    "    best_variables = []\n",
    "    for fold in range(10):\n",
    "        group, train_X, train_Y, val_X, val_Y = stratified_train_test_group_kfold(train_val_X, train_val_Y, train_val_groups, n_splits=10, test_fold=fold)\n",
    "        \n",
    "        model_path = f'classificatioin/ImageNet/aug3/GBC_{fold}_model.sav'\n",
    "        \n",
    "        train_X, train_Y = oversample.fit_resample(train_X, train_Y)\n",
    "        variables_best, performance_best = gbc_gridsearch(train_X, train_Y, val_X, val_Y, N_estimators, Learning_rate, Min_samples_split,Max_depth,fold, model_path)\n",
    "        best_train.append(performance_best['accuracy_train'])\n",
    "        best_val.append(performance_best['accuracy_val'])\n",
    "        best_variables.append(variables_best)\n",
    "        print(f'fold: {fold} done!')\n",
    "    return best_train, best_val, best_variables\n",
    "\n",
    "\n",
    "best_train, best_val, best_variables = cross_10_folds_gbc(train_val_X, train_val_Y)\n",
    "print(best_train)\n",
    "print(best_val)\n",
    "print(f'train_acc_mean: {np.mean(best_train) :.3f}, std: {np.std(best_train) :.3f}, val_acc_mean: {np.mean(best_val):.3f}, std: {np.std(best_val):.3f}')"
   ]
  },
  {
   "cell_type": "markdown",
   "id": "6990bbf7",
   "metadata": {},
   "source": [
    "# 4. Model Testing"
   ]
  },
  {
   "cell_type": "code",
   "execution_count": 6,
   "id": "16c09e27",
   "metadata": {},
   "outputs": [
    {
     "name": "stdout",
     "output_type": "stream",
     "text": [
      "<class 'generator'>\n",
      "<class 'generator'>\n",
      "<class 'generator'>\n",
      "<class 'generator'>\n",
      "<class 'generator'>\n",
      "<class 'generator'>\n",
      "<class 'generator'>\n",
      "<class 'generator'>\n",
      "<class 'generator'>\n",
      "<class 'generator'>\n",
      "[0.6666666666666666, 0.6666666666666666, 0.6296296296296297, 0.7037037037037037, 0.6296296296296297, 0.6296296296296297, 0.6296296296296297, 0.6296296296296297, 0.7407407407407407, 0.6296296296296297]\n",
      "test_acc_mean: 0.656, std: 0.037\n",
      "5th confusion matrix:  [[1, 2, 0], [0, 8, 5], [1, 2, 8]]\n"
     ]
    }
   ],
   "source": [
    "best_fold = 3\n",
    "\n",
    "model_path = f'classificatioin/ImageNet/aug3/GBC_{best_fold}_model.sav'\n",
    "\n",
    "# Fitting different train in the same hyperparameters\n",
    "best_test, confusion_matrix_test = model_test_classification(train_val_X, train_val_Y, train_val_groups,test_X, test_Y, best_fold, model_path)\n",
    "\n",
    "\n",
    "\n",
    "print(best_test)\n",
    "print(f'test_acc_mean: {np.mean(best_test) :.3f}, std: {np.std(best_test) :.3f}')\n",
    "\n",
    "print('5th confusion matrix: ', [list(item) for item in confusion_matrix_test[4]])"
   ]
  },
  {
   "cell_type": "code",
   "execution_count": 7,
   "id": "28931b0b",
   "metadata": {},
   "outputs": [
    {
     "name": "stdout",
     "output_type": "stream",
     "text": [
      "10\n",
      "[[0.3, 2.3, 0.4], [0.6, 9.1, 3.3], [0.5, 2.2, 8.3]]\n"
     ]
    }
   ],
   "source": [
    "cm_list = []\n",
    "for cm in confusion_matrix_test:\n",
    "    cm_list.append([list(item) for item in cm])\n",
    "#print(cm_list)\n",
    "\n",
    "print(len(cm_list))\n",
    "print([list(item) for item in np.mean(cm_list, axis=0)])"
   ]
  },
  {
   "cell_type": "code",
   "execution_count": 3,
   "id": "8618a4ba",
   "metadata": {},
   "outputs": [
    {
     "data": {
      "text/plain": [
       "{'ccp_alpha': 0.0,\n",
       " 'criterion': 'friedman_mse',\n",
       " 'init': None,\n",
       " 'learning_rate': 0.01,\n",
       " 'loss': 'log_loss',\n",
       " 'max_depth': 8,\n",
       " 'max_features': None,\n",
       " 'max_leaf_nodes': None,\n",
       " 'min_impurity_decrease': 0.0,\n",
       " 'min_samples_leaf': 1,\n",
       " 'min_samples_split': 11,\n",
       " 'min_weight_fraction_leaf': 0.0,\n",
       " 'n_estimators': 200,\n",
       " 'n_iter_no_change': None,\n",
       " 'random_state': 1,\n",
       " 'subsample': 1.0,\n",
       " 'tol': 0.0001,\n",
       " 'validation_fraction': 0.1,\n",
       " 'verbose': 0,\n",
       " 'warm_start': False}"
      ]
     },
     "execution_count": 3,
     "metadata": {},
     "output_type": "execute_result"
    }
   ],
   "source": [
    "best_fold = 3\n",
    "\n",
    "#PATH = os.path.join('Model', model_path)\n",
    "PATH = f'Model/Class/TrainedImageNet/Up/GBC_{best_fold}_model.sav'\n",
    "loaded_model = pickle.load(open(PATH, 'rb'))\n",
    "loaded_model.get_params()"
   ]
  },
  {
   "cell_type": "code",
   "execution_count": null,
   "id": "11dd3ce2",
   "metadata": {},
   "outputs": [],
   "source": []
  }
 ],
 "metadata": {
  "kernelspec": {
   "display_name": "Python [conda env:torchvision] *",
   "language": "python",
   "name": "conda-env-torchvision-py"
  },
  "language_info": {
   "codemirror_mode": {
    "name": "ipython",
    "version": 3
   },
   "file_extension": ".py",
   "mimetype": "text/x-python",
   "name": "python",
   "nbconvert_exporter": "python",
   "pygments_lexer": "ipython3",
   "version": "3.10.6"
  }
 },
 "nbformat": 4,
 "nbformat_minor": 5
}
