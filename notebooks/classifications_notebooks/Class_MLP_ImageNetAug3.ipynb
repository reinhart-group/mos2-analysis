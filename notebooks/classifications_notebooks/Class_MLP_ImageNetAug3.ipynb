{
 "cells": [
  {
   "cell_type": "code",
   "execution_count": 1,
   "id": "f1bd3e55",
   "metadata": {},
   "outputs": [
    {
     "name": "stdout",
     "output_type": "stream",
     "text": [
      "The scikit-learn version is 1.2.2.\n"
     ]
    }
   ],
   "source": [
    "import sklearn\n",
    "\n",
    "\n",
    "print('The scikit-learn version is {}.'.format(sklearn.__version__))\n"
   ]
  },
  {
   "cell_type": "markdown",
   "id": "eaa8adc9",
   "metadata": {},
   "source": [
    "# 1. Imports"
   ]
  },
  {
   "cell_type": "code",
   "execution_count": 1,
   "id": "144103d6",
   "metadata": {},
   "outputs": [],
   "source": [
    "import torch\n",
    "import torch.nn as nn\n",
    "import torch.nn.functional as F\n",
    "\n",
    "import os\n",
    "import numpy as np\n",
    "from torchvision import datasets, models, transforms\n",
    "\n",
    "from torchvision.models import resnet18, ResNet18_Weights\n",
    "import torch.optim as optim\n",
    "\n",
    "\n",
    "import random\n",
    "import pandas as pd\n",
    "import pickle\n",
    "\n",
    "from sklearn.model_selection import train_test_split\n",
    "\n",
    "\n",
    "from sklearn.model_selection import GroupKFold\n",
    "from sklearn.model_selection import StratifiedGroupKFold\n",
    "from imblearn.over_sampling import RandomOverSampler\n",
    "\n",
    "\n",
    "\n",
    "from codes.utils import stratified_train_test_group_kfold\n",
    "from codes.utils import model_test_classification\n",
    "from codes.utils import accuracy_classification\n",
    "from codes.utils import mlp_class_cross_val_final_test\n",
    "\n",
    "from codes.classification_codes import mlp_class_gridsearch\n",
    "\n",
    "\n",
    "torch.backends.cudnn.deterministic = True\n",
    "random.seed(1)\n",
    "torch.manual_seed(1)\n",
    "torch.cuda.manual_seed(1)\n",
    "np.random.seed(1)\n",
    "\n",
    "use_cuda = torch.cuda.is_available()\n",
    "device = torch.device(\"cuda:0\" if use_cuda else \"cpu\")\n",
    "torch.backends.cudnn.benchmark = True"
   ]
  },
  {
   "cell_type": "markdown",
   "id": "1e9eddff",
   "metadata": {},
   "source": [
    "# 2. Data"
   ]
  },
  {
   "cell_type": "code",
   "execution_count": 2,
   "id": "44e11c84",
   "metadata": {},
   "outputs": [
    {
     "name": "stdout",
     "output_type": "stream",
     "text": [
      "Index(['sampleId', 'sampleLabel', 'image', 'T', 'ImageNet', 'MicroNet'], dtype='object')\n",
      "<class 'generator'>\n",
      "(235, 100)\n",
      "(235,)\n",
      "(27, 100)\n",
      "(27,)\n"
     ]
    }
   ],
   "source": [
    "with open(\"Data/MoS2_Analysis_Data_trained2\", \"rb\") as fp:   # Unpickling\n",
    "    MoS2_Proj1_Class_Data = pickle.load(fp)\n",
    "\n",
    "#features = MoS2_ImageNet_100_data[0]\n",
    "df = pd.DataFrame(MoS2_Proj1_Class_Data)\n",
    "print(df.keys())\n",
    "T_dict= {900:0, 950:1, 1000:2}\n",
    "T_target = np.array([T_dict[item] for item in df['T']])\n",
    "\n",
    "features = np.array(list(df['ImageNet']))\n",
    "sampleId = np.array(list(df['sampleId']))\n",
    "\n",
    "\n",
    "X = features\n",
    "Y = np.array(T_target)\n",
    "groups = np.array(sampleId)\n",
    "\n",
    "train_val_groups, train_val_X, train_val_Y, test_X, test_Y = stratified_train_test_group_kfold(X, Y, groups, n_splits=10, test_fold=0)\n",
    "\n",
    "\n",
    "#Y = Y.flatten()\n",
    "\n",
    "oversample = RandomOverSampler(sampling_strategy='not majority')\n",
    "\n",
    "print(train_val_X.shape)\n",
    "print(train_val_Y.shape)\n",
    "print(test_X.shape)\n",
    "print(test_Y.shape)\n",
    "\n",
    "\n",
    "\n",
    "\n"
   ]
  },
  {
   "cell_type": "markdown",
   "id": "b0d82cf7",
   "metadata": {},
   "source": [
    "# 3. Runing Cross-Validation"
   ]
  },
  {
   "cell_type": "code",
   "execution_count": 3,
   "id": "166c2e38",
   "metadata": {},
   "outputs": [],
   "source": [
    "#!mkdir -p 'Models/classification/ImageNet/aug3/MLP'"
   ]
  },
  {
   "cell_type": "code",
   "execution_count": 4,
   "id": "4251c467",
   "metadata": {},
   "outputs": [
    {
     "name": "stdout",
     "output_type": "stream",
     "text": [
      "<class 'generator'>\n",
      "Early stopped training at epoch 14\n",
      "Accuracy of the network on the 315 train images: 93.0 %\n",
      "Accuracy of the network on the 24 val images: 79.2 %\n",
      "fold: 0 done!\n",
      "<class 'generator'>\n",
      "Early stopped training at epoch 25\n",
      "Accuracy of the network on the 318 train images: 97.8 %\n",
      "Accuracy of the network on the 24 val images: 70.8 %\n",
      "fold: 1 done!\n",
      "<class 'generator'>\n",
      "Early stopped training at epoch 14\n",
      "Accuracy of the network on the 318 train images: 95.0 %\n",
      "Accuracy of the network on the 24 val images: 66.7 %\n",
      "fold: 2 done!\n",
      "<class 'generator'>\n",
      "Early stopped training at epoch 19\n",
      "Accuracy of the network on the 315 train images: 90.2 %\n",
      "Accuracy of the network on the 24 val images: 79.2 %\n",
      "fold: 3 done!\n",
      "<class 'generator'>\n",
      "Early stopped training at epoch 14\n",
      "Accuracy of the network on the 315 train images: 95.2 %\n",
      "Accuracy of the network on the 24 val images: 70.8 %\n",
      "fold: 4 done!\n",
      "<class 'generator'>\n",
      "Early stopped training at epoch 28\n",
      "Accuracy of the network on the 315 train images: 97.1 %\n",
      "Accuracy of the network on the 23 val images: 91.3 %\n",
      "fold: 5 done!\n",
      "<class 'generator'>\n",
      "Early stopped training at epoch 28\n",
      "Accuracy of the network on the 315 train images: 97.1 %\n",
      "Accuracy of the network on the 23 val images: 78.3 %\n",
      "fold: 6 done!\n",
      "<class 'generator'>\n",
      "Early stopped training at epoch 18\n",
      "Accuracy of the network on the 315 train images: 95.6 %\n",
      "Accuracy of the network on the 23 val images: 78.3 %\n",
      "fold: 7 done!\n",
      "<class 'generator'>\n",
      "Early stopped training at epoch 15\n",
      "Accuracy of the network on the 315 train images: 88.3 %\n",
      "Accuracy of the network on the 23 val images: 60.9 %\n",
      "fold: 8 done!\n",
      "<class 'generator'>\n",
      "Early stopped training at epoch 18\n",
      "Accuracy of the network on the 318 train images: 94.7 %\n",
      "Accuracy of the network on the 23 val images: 69.6 %\n",
      "fold: 9 done!\n"
     ]
    }
   ],
   "source": [
    "# the paramters below were optimized\n",
    "#lr: 0.01, batch size: 16, dropout: 0.35, epochs: 32, l1: 600, l2: 50\n",
    "                        \n",
    "                        \n",
    "Learning_rate = [0.01]\n",
    "Drop_out = [0.35]#[0.0, 0.2, 0.35, 0.5]\n",
    "Batch_size = [16]#[16, 32, 100]\n",
    "L1 = [600]#[600, 400, 300, 200]\n",
    "L2 = [50]# [150, 100, 50]\n",
    "\n",
    "def cross_10_folds_mlp(train_val_X, train_val_Y):\n",
    "\n",
    "    best_train = []\n",
    "    best_val = []\n",
    "    best_variables = []\n",
    "    best_performance_record = []\n",
    "    for fold in range(10):\n",
    "        \n",
    "        model_path = f'classification/ImageNet/aug3/MLP/{fold}_model.pth'\n",
    "        group, train_X, train_Y, val_X, val_Y = stratified_train_test_group_kfold(train_val_X, train_val_Y, train_val_groups, n_splits=10, test_fold=fold)\n",
    "        train_X, train_Y = oversample.fit_resample(train_X, train_Y)\n",
    "        \n",
    "        #train_X, val_X, train_Y, val_Y = train_test_split(train_val_X, train_val_Y, test_size=0.1,stratify=train_val_Y,random_state=fold+30)#42\n",
    "        best_train_acc, best_val_acc, best_record, hyper=mlp_class_gridsearch(train_X, train_Y, val_X, val_Y,Learning_rate, L1, L2, Drop_out,Batch_size, fold,model_path)\n",
    "        #best_train_acc, best_val_acc, trainf1, valf1, best_perf_record, hyper=cnn_class_train_fn(train_X, train_Y, val_X, val_Y, Learning_rate, Batch_size, fold)\n",
    "\n",
    "        best_train.append(best_train_acc)\n",
    "        best_val.append(best_val_acc)\n",
    "        best_variables.append(hyper)\n",
    "        best_performance_record.append(best_record)\n",
    "\n",
    "        print(f'fold: {fold} done!')\n",
    "    return best_train, best_val, best_variables, best_performance_record\n",
    "\n",
    "\n",
    "best_train, best_val, best_variables, best_performance_record = cross_10_folds_mlp(train_val_X, train_val_Y)\n",
    "\n"
   ]
  },
  {
   "cell_type": "markdown",
   "id": "1b8e1bef",
   "metadata": {},
   "source": [
    "# 4. Test Models"
   ]
  },
  {
   "cell_type": "code",
   "execution_count": 5,
   "id": "187b2771",
   "metadata": {},
   "outputs": [],
   "source": [
    "class MLP(nn.Module):\n",
    "    def __init__(self, l1=120, l2=84, p = 0.2):\n",
    "        super(MLP, self).__init__()\n",
    "        self.fc1 = nn.Linear(100, l1)\n",
    "        self.fc2 = nn.Linear(l1, l2)\n",
    "        self.fc3 = nn.Linear(l2, 3)\n",
    "        #self.activ = torch.nn.Sigmoid()\n",
    "        self.dropout = nn.Dropout(p)\n",
    "\n",
    "    def forward(self, x):\n",
    "        x = F.relu(self.fc1(x))\n",
    "        x = F.relu(self.fc2(x))\n",
    "        x = self.dropout(x)\n",
    "        x = self.fc3(x)\n",
    "        return x\n",
    "\n",
    "l1, l2, p = 600, 50, 0.35\n",
    "trained_model = model = MLP(l1, l2, p).to(device)"
   ]
  },
  {
   "cell_type": "code",
   "execution_count": 6,
   "id": "3c9c2a8c",
   "metadata": {},
   "outputs": [
    {
     "name": "stdout",
     "output_type": "stream",
     "text": [
      "Accuracy of the network on the 27 test images: 66.7 %\n",
      "Accuracy of the network on the 27 test images: 66.7 %\n",
      "Accuracy of the network on the 27 test images: 66.7 %\n",
      "Accuracy of the network on the 27 test images: 66.7 %\n",
      "Accuracy of the network on the 27 test images: 70.4 %\n",
      "Accuracy of the network on the 27 test images: 81.5 %\n",
      "Accuracy of the network on the 27 test images: 77.8 %\n",
      "Accuracy of the network on the 27 test images: 74.1 %\n",
      "Accuracy of the network on the 27 test images: 70.4 %\n",
      "Accuracy of the network on the 27 test images: 66.7 %\n",
      "[66.66666666666667, 66.66666666666667, 66.66666666666667, 66.66666666666667, 70.37037037037037, 81.48148148148148, 77.77777777777777, 74.07407407407408, 70.37037037037037, 66.66666666666667]\n",
      "test_acc_mean: 70.741, std: 5.092\n",
      "......\n",
      "idx_cm:  [5]\n",
      "max_test_acc:  81.48148148148148\n",
      "[[ 1  2  0]\n",
      " [ 0 12  1]\n",
      " [ 0  2  9]]\n",
      "5th confusion matrix:  [[1, 2, 0], [2, 10, 1], [0, 3, 8]]\n",
      "10\n",
      "avg cm:  [[1.0, 2.0, 0.0], [1.2, 10.2, 1.6], [0.0, 3.1, 7.9]]\n"
     ]
    }
   ],
   "source": [
    "\n",
    "#trained_model = pretrained_model()\n",
    "root_path = f'classification/ImageNet/aug3/MLP'\n",
    "\n",
    "best_test, confusion_matrix_test = mlp_class_cross_val_final_test(trained_model, test_X, test_Y, 'test', root_path)\n",
    "\n",
    "\n",
    "print(best_test)\n",
    "print(f'test_acc_mean: {np.mean(best_test) :.3f}, std: {np.std(best_test) :.3f}')\n",
    "print(\"......\")\n",
    "\n",
    "def cm_to_plot(best_test):\n",
    "\n",
    "    max_test = np.max(best_test)\n",
    "    idx_cm = []\n",
    "    for index, item in enumerate(best_test):\n",
    "        if item == max_test:\n",
    "            idx_cm.append(index)\n",
    "\n",
    "    print('idx_cm: ', idx_cm)\n",
    "    print('max_test_acc: ', max_test)\n",
    "\n",
    "    print(confusion_matrix_test[idx_cm[0]])\n",
    "cm_to_plot(best_test)\n",
    "print('5th confusion matrix: ', [list(item) for item in confusion_matrix_test[4]])\n",
    "\n",
    "\n",
    "cm_list = []\n",
    "for cm in confusion_matrix_test:\n",
    "    cm_list.append([list(item) for item in cm])\n",
    "#print(cm_list)\n",
    "\n",
    "print(len(cm_list))\n",
    "print('avg cm: ', [list(item) for item in np.mean(cm_list, axis=0)])\n"
   ]
  },
  {
   "cell_type": "code",
   "execution_count": null,
   "id": "35cc48a6",
   "metadata": {},
   "outputs": [],
   "source": []
  }
 ],
 "metadata": {
  "kernelspec": {
   "display_name": "Python [conda env:torchvision] *",
   "language": "python",
   "name": "conda-env-torchvision-py"
  },
  "language_info": {
   "codemirror_mode": {
    "name": "ipython",
    "version": 3
   },
   "file_extension": ".py",
   "mimetype": "text/x-python",
   "name": "python",
   "nbconvert_exporter": "python",
   "pygments_lexer": "ipython3",
   "version": "3.10.6"
  }
 },
 "nbformat": 4,
 "nbformat_minor": 5
}
