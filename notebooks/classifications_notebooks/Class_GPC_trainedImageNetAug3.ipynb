{
 "cells": [
  {
   "cell_type": "markdown",
   "id": "a89b039a",
   "metadata": {},
   "source": [
    "# 1. Imports"
   ]
  },
  {
   "cell_type": "code",
   "execution_count": 1,
   "id": "cc4d5612",
   "metadata": {},
   "outputs": [
    {
     "name": "stdout",
     "output_type": "stream",
     "text": [
      "0.10.1\n"
     ]
    }
   ],
   "source": [
    "from sklearn.decomposition import PCA\n",
    "import matplotlib as mpl \n",
    "import numpy as np\n",
    "import os\n",
    "import pandas as pd\n",
    "import pickle\n",
    "\n",
    "from sklearn.model_selection import train_test_split\n",
    "from sklearn.metrics import confusion_matrix, accuracy_score\n",
    "from sklearn.metrics import f1_score\n",
    "from imblearn.over_sampling import RandomOverSampler\n",
    "from sklearn.preprocessing import StandardScaler\n",
    "\n",
    "\n",
    "from codes.utils import stratified_train_test_group_kfold\n",
    "from codes.utils import model_test_classification\n",
    "\n",
    "from codes.classification_codes import gpc_gridsearch\n",
    "\n"
   ]
  },
  {
   "cell_type": "markdown",
   "id": "cf07dc38",
   "metadata": {},
   "source": [
    "# 2. Data"
   ]
  },
  {
   "cell_type": "code",
   "execution_count": 2,
   "id": "6c5fee16",
   "metadata": {},
   "outputs": [
    {
     "name": "stdout",
     "output_type": "stream",
     "text": [
      "Index(['sampleId', 'sampleLabel', 'image', 'T', 'ImageNet', 'MicroNet'], dtype='object')\n"
     ]
    }
   ],
   "source": [
    "with open(\"Data/MoS2_Analysis_Data_trained2\", \"rb\") as fp:   # Unpickling\n",
    "    MoS2_Proj1_Class_Data = pickle.load(fp)\n",
    "\n",
    "#features = MoS2_ImageNet_100_data[0]\n",
    "df = pd.DataFrame(MoS2_Proj1_Class_Data)\n",
    "print(df.keys())\n",
    "T_dict= {900:0, 950:1, 1000:2}\n",
    "T_target = np.array([T_dict[item] for item in df['T']])\n",
    "\n",
    "features = np.array(list(df['ImageNet']))\n",
    "sampleId = np.array(list(df['sampleId']))\n",
    "\n",
    "X = features\n",
    "Y = np.array(T_target)\n",
    "groups = np.array(sampleId)\n",
    "\n",
    "\n",
    "train_val_groups, train_val_X, train_val_Y, test_X, test_Y = stratified_train_test_group_kfold(X, Y, groups, n_splits=10, test_fold=0)\n",
    "\n",
    "train_val_Y = train_val_Y.flatten()\n",
    "test_Y = test_Y.flatten()\n",
    "\n",
    "print(train_val_X.shape)\n",
    "print(train_val_Y.shape)\n",
    "print(test_X.shape)\n",
    "print(test_Y.shape)\n",
    "\n",
    "\n",
    "oversample = RandomOverSampler(sampling_strategy='not majority')\n",
    "\n",
    "scaler = StandardScaler().fit(train_val_X)\n",
    "train_val_X = scaler.transform(train_val_X)\n",
    "test_X = scaler.transform(test_X)"
   ]
  },
  {
   "cell_type": "code",
   "execution_count": 3,
   "id": "e1bec99e",
   "metadata": {},
   "outputs": [],
   "source": [
    "! mkdir -p 'Model/Class/TrainedImageNet/Up/'"
   ]
  },
  {
   "cell_type": "markdown",
   "id": "0df91663",
   "metadata": {},
   "source": [
    "# 3. Runing Cross-Validation"
   ]
  },
  {
   "cell_type": "code",
   "execution_count": 5,
   "id": "18c27744",
   "metadata": {},
   "outputs": [
    {
     "name": "stdout",
     "output_type": "stream",
     "text": [
      "<class 'generator'>\n",
      "best_train_acc: 1.0, best_val_acc: 0.5833333333333334\n",
      "best_train_acc: 1.0, best_val_acc: 0.625\n",
      "fold: 0 done!\n",
      "<class 'generator'>\n",
      "best_train_acc: 1.0, best_val_acc: 0.6666666666666666\n",
      "best_train_acc: 1.0, best_val_acc: 0.7083333333333334\n",
      "fold: 1 done!\n",
      "<class 'generator'>\n",
      "best_train_acc: 1.0, best_val_acc: 0.5833333333333334\n",
      "best_train_acc: 1.0, best_val_acc: 0.625\n",
      "fold: 2 done!\n",
      "<class 'generator'>\n",
      "best_train_acc: 1.0, best_val_acc: 0.5416666666666666\n",
      "best_train_acc: 1.0, best_val_acc: 0.5833333333333334\n",
      "fold: 3 done!\n",
      "<class 'generator'>\n",
      "best_train_acc: 1.0, best_val_acc: 0.75\n",
      "fold: 4 done!\n",
      "<class 'generator'>\n",
      "best_train_acc: 1.0, best_val_acc: 0.43478260869565216\n",
      "fold: 5 done!\n",
      "<class 'generator'>\n",
      "best_train_acc: 1.0, best_val_acc: 0.5652173913043478\n",
      "best_train_acc: 1.0, best_val_acc: 0.6086956521739131\n",
      "fold: 6 done!\n",
      "<class 'generator'>\n",
      "best_train_acc: 1.0, best_val_acc: 0.5652173913043478\n",
      "best_train_acc: 1.0, best_val_acc: 0.6086956521739131\n",
      "fold: 7 done!\n",
      "<class 'generator'>\n",
      "best_train_acc: 1.0, best_val_acc: 0.43478260869565216\n",
      "fold: 8 done!\n",
      "<class 'generator'>\n",
      "best_train_acc: 1.0, best_val_acc: 0.4782608695652174\n",
      "best_train_acc: 1.0, best_val_acc: 0.5217391304347826\n",
      "fold: 9 done!\n",
      "[1.0, 1.0, 1.0, 1.0, 1.0, 1.0, 1.0, 1.0, 1.0, 1.0]\n",
      "[0.625, 0.7083333333333334, 0.625, 0.5833333333333334, 0.75, 0.43478260869565216, 0.6086956521739131, 0.6086956521739131, 0.43478260869565216, 0.5217391304347826]\n",
      "train_acc_mean: 1.000, std: 0.000, val_acc_mean: 0.590, std: 0.098\n"
     ]
    }
   ],
   "source": [
    "\n",
    "def mul_range(start, stop, multiple):\n",
    "    value = start\n",
    "    while value < stop: # using < for consistency with range\n",
    "        yield value\n",
    "        value *= multiple\n",
    "N_restarts_optimizer = [i for i in range(5)]\n",
    "Max_iter_predict = [i for i in range(100, 501, 100)]\n",
    "Multi_class = ['one_vs_rest', 'one_vs_one']\n",
    "\n",
    "\n",
    "def cross_10_folds_gpc(train_val_X, train_val_Y):\n",
    "    \n",
    "    best_train = []\n",
    "    best_val = []\n",
    "    best_variables = []\n",
    "    for fold in range(10):\n",
    "        \n",
    "        group, train_X, train_Y, val_X, val_Y = stratified_train_test_group_kfold(train_val_X, train_val_Y, train_val_groups, n_splits=10, test_fold=fold)\n",
    "        \n",
    "        model_path = f'classification/ImageNet/aug3/GPC_{fold}_model.sav'\n",
    "        \n",
    "        train_X, train_Y = oversample.fit_resample(train_X, train_Y)\n",
    "        \n",
    "        variables_best, performance_best = gpc_gridsearch(train_X, train_Y, val_X, val_Y, N_restarts_optimizer, Max_iter_predict, Multi_class, fold, model_path)\n",
    "        best_train.append(performance_best['accuracy_train'])\n",
    "        best_val.append(performance_best['accuracy_val'])\n",
    "        best_variables.append(variables_best)\n",
    "        print(f'fold: {fold} done!')\n",
    "    return best_train, best_val, best_variables\n",
    "\n",
    "\n",
    "best_train, best_val, best_variables = cross_10_folds_gpc(train_val_X, train_val_Y)\n",
    "print(best_train)\n",
    "print(best_val)\n",
    "print(f'train_acc_mean: {np.mean(best_train) :.3f}, std: {np.std(best_train) :.3f}, val_acc_mean: {np.mean(best_val):.3f}, std: {np.std(best_val):.3f}')"
   ]
  },
  {
   "cell_type": "markdown",
   "id": "dc139b36",
   "metadata": {},
   "source": [
    "# 4. Model Testing"
   ]
  },
  {
   "cell_type": "code",
   "execution_count": 6,
   "id": "16c09e27",
   "metadata": {},
   "outputs": [
    {
     "name": "stdout",
     "output_type": "stream",
     "text": [
      "<class 'generator'>\n",
      "<class 'generator'>\n",
      "<class 'generator'>\n",
      "<class 'generator'>\n",
      "<class 'generator'>\n",
      "<class 'generator'>\n",
      "<class 'generator'>\n",
      "<class 'generator'>\n",
      "<class 'generator'>\n",
      "<class 'generator'>\n",
      "[0.6296296296296297, 0.6666666666666666, 0.6666666666666666, 0.6296296296296297, 0.6666666666666666, 0.6666666666666666, 0.6666666666666666, 0.7037037037037037, 0.6296296296296297, 0.6296296296296297]\n",
      "test_acc_mean: 0.656, std: 0.024\n",
      "5th confusion matrix:  [[1, 2, 0], [1, 8, 4], [0, 2, 9]]\n"
     ]
    }
   ],
   "source": [
    "best_fold = 4\n",
    "\n",
    "model_path = f'classification/ImageNet/aug3/GPC_{best_fold}_model.sav'\n",
    "# Fitting different train in the same hyperparameters\n",
    "best_test, confusion_matrix_test = model_test_classification(train_val_X, train_val_Y, train_val_groups,test_X, test_Y, best_fold, model_path)\n",
    "\n",
    "\n",
    "\n",
    "print(best_test)\n",
    "print(f'test_acc_mean: {np.mean(best_test) :.3f}, std: {np.std(best_test) :.3f}')\n",
    "\n",
    "print('5th confusion matrix: ', [list(item) for item in confusion_matrix_test[4]])"
   ]
  },
  {
   "cell_type": "code",
   "execution_count": 7,
   "id": "e91f1ecb",
   "metadata": {},
   "outputs": [
    {
     "name": "stdout",
     "output_type": "stream",
     "text": [
      "10\n",
      "[[1.0, 1.9, 0.1], [1.3, 7.8, 3.9], [0.0, 2.1, 8.9]]\n"
     ]
    }
   ],
   "source": [
    "cm_list = []\n",
    "for cm in confusion_matrix_test:\n",
    "    cm_list.append([list(item) for item in cm])\n",
    "#print(cm_list)\n",
    "\n",
    "print(len(cm_list))\n",
    "print([list(item) for item in np.mean(cm_list, axis=0)])"
   ]
  },
  {
   "cell_type": "code",
   "execution_count": 3,
   "id": "2a846143",
   "metadata": {},
   "outputs": [
    {
     "data": {
      "text/plain": [
       "{'copy_X_train': True,\n",
       " 'kernel': None,\n",
       " 'max_iter_predict': 100,\n",
       " 'multi_class': 'one_vs_rest',\n",
       " 'n_jobs': None,\n",
       " 'n_restarts_optimizer': 0,\n",
       " 'optimizer': 'fmin_l_bfgs_b',\n",
       " 'random_state': None,\n",
       " 'warm_start': False}"
      ]
     },
     "execution_count": 3,
     "metadata": {},
     "output_type": "execute_result"
    }
   ],
   "source": [
    "best_fold = 4\n",
    "PATH = f'Model/Class/TrainedImageNet/Up/GPC_{best_fold}_model.sav'\n",
    "\n",
    "#PATH = os.path.join('Models', model_path)\n",
    "loaded_model = pickle.load(open(PATH, 'rb'))\n",
    "loaded_model.get_params()"
   ]
  },
  {
   "cell_type": "code",
   "execution_count": null,
   "id": "a62d5ea6",
   "metadata": {},
   "outputs": [],
   "source": []
  }
 ],
 "metadata": {
  "kernelspec": {
   "display_name": "Python [conda env:torchvision] *",
   "language": "python",
   "name": "conda-env-torchvision-py"
  },
  "language_info": {
   "codemirror_mode": {
    "name": "ipython",
    "version": 3
   },
   "file_extension": ".py",
   "mimetype": "text/x-python",
   "name": "python",
   "nbconvert_exporter": "python",
   "pygments_lexer": "ipython3",
   "version": "3.10.6"
  }
 },
 "nbformat": 4,
 "nbformat_minor": 5
}
