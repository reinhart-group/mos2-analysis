{
 "cells": [
  {
   "cell_type": "markdown",
   "id": "dc869ca2",
   "metadata": {},
   "source": [
    "# 1. Imports"
   ]
  },
  {
   "cell_type": "code",
   "execution_count": 1,
   "id": "cc4d5612",
   "metadata": {},
   "outputs": [
    {
     "name": "stdout",
     "output_type": "stream",
     "text": [
      "0.10.1\n"
     ]
    }
   ],
   "source": [
    "from sklearn.decomposition import PCA\n",
    "import matplotlib as mpl \n",
    "import numpy as np\n",
    "import os\n",
    "import pandas as pd\n",
    "import pickle\n",
    "\n",
    "from sklearn.model_selection import train_test_split\n",
    "from sklearn.metrics import confusion_matrix, accuracy_score\n",
    "from sklearn.metrics import f1_score\n",
    "from imblearn.over_sampling import RandomOverSampler\n",
    "from sklearn.preprocessing import StandardScaler\n",
    "\n",
    "\n",
    "from codes.utils import stratified_train_test_group_kfold\n",
    "from codes.utils import model_test_classification\n",
    "\n",
    "from codes.classification_codes import rnc_gridsearch\n",
    "\n"
   ]
  },
  {
   "cell_type": "markdown",
   "id": "9e2347f7",
   "metadata": {},
   "source": [
    "# 2. Data"
   ]
  },
  {
   "cell_type": "code",
   "execution_count": 2,
   "id": "6c5fee16",
   "metadata": {},
   "outputs": [
    {
     "name": "stdout",
     "output_type": "stream",
     "text": [
      "Index(['sampleId', 'sampleLabel', 'image', 'T', 'ImageNet', 'MicroNet'], dtype='object')\n"
     ]
    }
   ],
   "source": [
    "with open(\"Data/MoS2_Analysis_Data_trained2\", \"rb\") as fp:   # Unpickling\n",
    "    MoS2_Proj1_Class_Data = pickle.load(fp)\n",
    "\n",
    "#features = MoS2_ImageNet_100_data[0]\n",
    "df = pd.DataFrame(MoS2_Proj1_Class_Data)\n",
    "print(df.keys())\n",
    "T_dict= {900:0, 950:1, 1000:2}\n",
    "T_target = np.array([T_dict[item] for item in df['T']])\n",
    "\n",
    "features = np.array(list(df['ImageNet']))\n",
    "sampleId = np.array(list(df['sampleId']))\n",
    "\n",
    "X = features\n",
    "Y = np.array(T_target)\n",
    "groups = np.array(sampleId)\n",
    "\n",
    "\n",
    "train_val_groups, train_val_X, train_val_Y, test_X, test_Y = stratified_train_test_group_kfold(X, Y, groups, n_splits=10, test_fold=0)\n",
    "\n",
    "train_val_Y = train_val_Y.flatten()\n",
    "test_Y = test_Y.flatten()\n",
    "\n",
    "print(train_val_X.shape)\n",
    "print(train_val_Y.shape)\n",
    "print(test_X.shape)\n",
    "print(test_Y.shape)\n",
    "\n",
    "\n",
    "oversample = RandomOverSampler(sampling_strategy='not majority')\n",
    "\n",
    "scaler = StandardScaler().fit(train_val_X)\n",
    "train_val_X = scaler.transform(train_val_X)\n",
    "test_X = scaler.transform(test_X)"
   ]
  },
  {
   "cell_type": "markdown",
   "id": "baa3a35f",
   "metadata": {},
   "source": [
    "# 3. Runing Cross-Validation"
   ]
  },
  {
   "cell_type": "code",
   "execution_count": 5,
   "id": "18c27744",
   "metadata": {},
   "outputs": [
    {
     "name": "stdout",
     "output_type": "stream",
     "text": [
      "<class 'generator'>\n",
      "best_train_acc: 1.0, best_val_acc: 0.125\n",
      "best_train_acc: 0.9904761904761905, best_val_acc: 0.16666666666666666\n",
      "best_train_acc: 0.8, best_val_acc: 0.25\n",
      "best_train_acc: 0.7111111111111111, best_val_acc: 0.4583333333333333\n",
      "best_train_acc: 0.6888888888888889, best_val_acc: 0.6666666666666666\n",
      "best_train_acc: 0.546031746031746, best_val_acc: 0.7083333333333334\n",
      "best_train_acc: 0.5428571428571428, best_val_acc: 0.75\n",
      "best_train_acc: 1.0, best_val_acc: 0.7916666666666666\n",
      "fold: 0 done!\n",
      "<class 'generator'>\n",
      "best_train_acc: 1.0, best_val_acc: 0.125\n",
      "best_train_acc: 0.9591194968553459, best_val_acc: 0.16666666666666666\n",
      "best_train_acc: 0.7767295597484277, best_val_acc: 0.375\n",
      "best_train_acc: 0.6981132075471698, best_val_acc: 0.4583333333333333\n",
      "best_train_acc: 1.0, best_val_acc: 0.5\n",
      "best_train_acc: 0.6415094339622641, best_val_acc: 0.6666666666666666\n",
      "best_train_acc: 1.0, best_val_acc: 0.75\n",
      "best_train_acc: 1.0, best_val_acc: 0.7916666666666666\n",
      "fold: 1 done!\n",
      "<class 'generator'>\n",
      "best_train_acc: 1.0, best_val_acc: 0.125\n",
      "best_train_acc: 0.9748427672955975, best_val_acc: 0.20833333333333334\n",
      "best_train_acc: 0.8333333333333334, best_val_acc: 0.4166666666666667\n",
      "best_train_acc: 0.7421383647798742, best_val_acc: 0.5833333333333334\n",
      "best_train_acc: 0.6886792452830188, best_val_acc: 0.6666666666666666\n",
      "best_train_acc: 1.0, best_val_acc: 0.7083333333333334\n",
      "best_train_acc: 1.0, best_val_acc: 0.75\n",
      "fold: 2 done!\n",
      "<class 'generator'>\n",
      "best_train_acc: 1.0, best_val_acc: 0.125\n",
      "best_train_acc: 0.9873015873015873, best_val_acc: 0.16666666666666666\n",
      "best_train_acc: 0.9650793650793651, best_val_acc: 0.20833333333333334\n",
      "best_train_acc: 0.7365079365079366, best_val_acc: 0.375\n",
      "best_train_acc: 0.653968253968254, best_val_acc: 0.5833333333333334\n",
      "best_train_acc: 0.6190476190476191, best_val_acc: 0.6666666666666666\n",
      "best_train_acc: 0.5301587301587302, best_val_acc: 0.7083333333333334\n",
      "best_train_acc: 1.0, best_val_acc: 0.7916666666666666\n",
      "fold: 3 done!\n",
      "<class 'generator'>\n",
      "best_train_acc: 1.0, best_val_acc: 0.125\n",
      "best_train_acc: 0.9904761904761905, best_val_acc: 0.20833333333333334\n",
      "best_train_acc: 0.9555555555555556, best_val_acc: 0.2916666666666667\n",
      "best_train_acc: 0.8476190476190476, best_val_acc: 0.4166666666666667\n",
      "best_train_acc: 0.7904761904761904, best_val_acc: 0.4583333333333333\n",
      "best_train_acc: 0.7206349206349206, best_val_acc: 0.7083333333333334\n",
      "fold: 4 done!\n",
      "<class 'generator'>\n",
      "best_train_acc: 1.0, best_val_acc: 0.08695652173913043\n",
      "best_train_acc: 0.9904761904761905, best_val_acc: 0.13043478260869565\n",
      "best_train_acc: 0.8539682539682539, best_val_acc: 0.17391304347826086\n",
      "best_train_acc: 0.7682539682539683, best_val_acc: 0.34782608695652173\n",
      "best_train_acc: 0.6507936507936508, best_val_acc: 0.6521739130434783\n",
      "best_train_acc: 0.6793650793650794, best_val_acc: 0.6956521739130435\n",
      "best_train_acc: 0.5555555555555556, best_val_acc: 0.782608695652174\n",
      "fold: 5 done!\n",
      "<class 'generator'>\n",
      "best_train_acc: 1.0, best_val_acc: 0.08695652173913043\n",
      "best_train_acc: 0.9904761904761905, best_val_acc: 0.13043478260869565\n",
      "best_train_acc: 0.9650793650793651, best_val_acc: 0.17391304347826086\n",
      "best_train_acc: 0.8285714285714286, best_val_acc: 0.34782608695652173\n",
      "best_train_acc: 0.8285714285714286, best_val_acc: 0.43478260869565216\n",
      "best_train_acc: 0.5555555555555556, best_val_acc: 0.5217391304347826\n",
      "fold: 6 done!\n",
      "<class 'generator'>\n",
      "best_train_acc: 1.0, best_val_acc: 0.08695652173913043\n",
      "best_train_acc: 0.9682539682539683, best_val_acc: 0.13043478260869565\n",
      "best_train_acc: 0.8126984126984127, best_val_acc: 0.30434782608695654\n",
      "best_train_acc: 0.7238095238095238, best_val_acc: 0.5217391304347826\n",
      "best_train_acc: 0.6730158730158731, best_val_acc: 0.5652173913043478\n",
      "best_train_acc: 0.6253968253968254, best_val_acc: 0.6086956521739131\n",
      "best_train_acc: 0.5873015873015873, best_val_acc: 0.6521739130434783\n",
      "fold: 7 done!\n",
      "<class 'generator'>\n",
      "best_train_acc: 1.0, best_val_acc: 0.08695652173913043\n",
      "best_train_acc: 0.9873015873015873, best_val_acc: 0.13043478260869565\n",
      "best_train_acc: 0.9650793650793651, best_val_acc: 0.17391304347826086\n",
      "best_train_acc: 0.7365079365079366, best_val_acc: 0.30434782608695654\n",
      "best_train_acc: 0.6761904761904762, best_val_acc: 0.34782608695652173\n",
      "best_train_acc: 0.6634920634920635, best_val_acc: 0.391304347826087\n",
      "best_train_acc: 1.0, best_val_acc: 0.43478260869565216\n",
      "best_train_acc: 0.5841269841269842, best_val_acc: 0.5217391304347826\n",
      "best_train_acc: 0.5396825396825397, best_val_acc: 0.5652173913043478\n",
      "fold: 8 done!\n",
      "<class 'generator'>\n",
      "best_train_acc: 1.0, best_val_acc: 0.13043478260869565\n",
      "best_train_acc: 0.7075471698113207, best_val_acc: 0.34782608695652173\n",
      "best_train_acc: 0.6886792452830188, best_val_acc: 0.5652173913043478\n",
      "best_train_acc: 0.6540880503144654, best_val_acc: 0.6086956521739131\n",
      "best_train_acc: 1.0, best_val_acc: 0.6521739130434783\n",
      "fold: 9 done!\n",
      "[1.0, 1.0, 1.0, 1.0, 0.7206349206349206, 0.5555555555555556, 0.5555555555555556, 0.5873015873015873, 0.5396825396825397, 1.0]\n",
      "[0.7916666666666666, 0.7916666666666666, 0.75, 0.7916666666666666, 0.7083333333333334, 0.782608695652174, 0.5217391304347826, 0.6521739130434783, 0.5652173913043478, 0.6521739130434783]\n",
      "train_acc_mean: 0.796, std: 0.209, val_acc_mean: 0.701, std: 0.094\n"
     ]
    }
   ],
   "source": [
    "Radius = [i for i in range(2, 7)]\n",
    "Weights = ['uniform', 'distance']\n",
    "Algorithm = ['auto', 'ball_tree', 'kd_tree', 'brute']\n",
    "P = [i for i in range(1, 6)]\n",
    "\n",
    "\n",
    "def cross_10_folds_rnn(train_val_X, train_val_Y):\n",
    "    \n",
    "    best_train = []\n",
    "    best_val = []\n",
    "    best_variables = []\n",
    "    for fold in range(10):\n",
    "        group, train_X, train_Y, val_X, val_Y = stratified_train_test_group_kfold(train_val_X, train_val_Y, train_val_groups, n_splits=10, test_fold=fold)\n",
    "        \n",
    "        model_path = f'classification/ImageNet/aug3/RNC_{fold}_model.sav'\n",
    "        \n",
    "        train_X, train_Y = oversample.fit_resample(train_X, train_Y)\n",
    "        variables_best, performance_best = rnn_gridsearch(train_X, train_Y, val_X, val_Y, Radius, Weights, Algorithm, P, fold, model_path)\n",
    "        best_train.append(performance_best['accuracy_train'])\n",
    "        best_val.append(performance_best['accuracy_val'])\n",
    "        best_variables.append(variables_best)\n",
    "        print(f'fold: {fold} done!')\n",
    "    return best_train, best_val, best_variables\n",
    "\n",
    "\n",
    "best_train, best_val, best_variables = cross_10_folds_rnn(train_val_X, train_val_Y)\n",
    "print(best_train)\n",
    "print(best_val)\n",
    "print(f'train_acc_mean: {np.mean(best_train) :.3f}, std: {np.std(best_train) :.3f}, val_acc_mean: {np.mean(best_val):.3f}, std: {np.std(best_val):.3f}')"
   ]
  },
  {
   "cell_type": "markdown",
   "id": "cc187f88",
   "metadata": {},
   "source": [
    "# 4. Model Testing"
   ]
  },
  {
   "cell_type": "code",
   "execution_count": 6,
   "id": "16c09e27",
   "metadata": {},
   "outputs": [
    {
     "name": "stdout",
     "output_type": "stream",
     "text": [
      "<class 'generator'>\n",
      "<class 'generator'>\n",
      "<class 'generator'>\n",
      "<class 'generator'>\n",
      "<class 'generator'>\n",
      "<class 'generator'>\n",
      "<class 'generator'>\n",
      "<class 'generator'>\n",
      "<class 'generator'>\n",
      "<class 'generator'>\n",
      "[0.6296296296296297, 0.6666666666666666, 0.6296296296296297, 0.6666666666666666, 0.6296296296296297, 0.5925925925925926, 0.6666666666666666, 0.6296296296296297, 0.6666666666666666, 0.6666666666666666]\n",
      "test_acc_mean: 0.644, std: 0.025\n",
      "5th confusion matrix:  [[1, 2, 0], [1, 11, 1], [0, 6, 5]]\n"
     ]
    }
   ],
   "source": [
    "best_fold = 0\n",
    "\n",
    "model_path = f'classification/ImageNet/aug3/RNC_{best_fold}_model.sav'\n",
    "# Fitting different train in the same hyperparameters\n",
    "best_test, confusion_matrix_test = model_test_classification(train_val_X, train_val_Y, train_val_groups,test_X, test_Y, best_fold, model_path)\n",
    "\n",
    "\n",
    "\n",
    "print(best_test)\n",
    "print(f'test_acc_mean: {np.mean(best_test) :.3f}, std: {np.std(best_test) :.3f}')\n",
    "\n",
    "print('5th confusion matrix: ', [list(item) for item in confusion_matrix_test[4]])"
   ]
  },
  {
   "cell_type": "code",
   "execution_count": 7,
   "id": "e91f1ecb",
   "metadata": {},
   "outputs": [
    {
     "name": "stdout",
     "output_type": "stream",
     "text": [
      "10\n",
      "[[1.6, 1.4, 0.0], [1.2, 10.8, 1.0], [0.9, 5.1, 5.0]]\n"
     ]
    }
   ],
   "source": [
    "cm_list = []\n",
    "for cm in confusion_matrix_test:\n",
    "    cm_list.append([list(item) for item in cm])\n",
    "#print(cm_list)\n",
    "\n",
    "print(len(cm_list))\n",
    "print([list(item) for item in np.mean(cm_list, axis=0)])"
   ]
  },
  {
   "cell_type": "code",
   "execution_count": 7,
   "id": "8bcea951",
   "metadata": {},
   "outputs": [
    {
     "data": {
      "text/plain": [
       "{'algorithm': 'auto',\n",
       " 'leaf_size': 30,\n",
       " 'metric': 'minkowski',\n",
       " 'metric_params': None,\n",
       " 'n_jobs': None,\n",
       " 'outlier_label': 0,\n",
       " 'p': 5,\n",
       " 'radius': 6,\n",
       " 'weights': 'distance'}"
      ]
     },
     "execution_count": 7,
     "metadata": {},
     "output_type": "execute_result"
    }
   ],
   "source": [
    "PATH = os.path.join('Models', model_path)\n",
    "loaded_model = pickle.load(open(PATH, 'rb'))\n",
    "loaded_model.get_params()"
   ]
  },
  {
   "cell_type": "code",
   "execution_count": null,
   "id": "5eab40a2",
   "metadata": {},
   "outputs": [],
   "source": []
  }
 ],
 "metadata": {
  "kernelspec": {
   "display_name": "Python [conda env:torchvision] *",
   "language": "python",
   "name": "conda-env-torchvision-py"
  },
  "language_info": {
   "codemirror_mode": {
    "name": "ipython",
    "version": 3
   },
   "file_extension": ".py",
   "mimetype": "text/x-python",
   "name": "python",
   "nbconvert_exporter": "python",
   "pygments_lexer": "ipython3",
   "version": "3.10.6"
  }
 },
 "nbformat": 4,
 "nbformat_minor": 5
}
