{
 "cells": [
  {
   "cell_type": "markdown",
   "id": "0a9251fa",
   "metadata": {},
   "source": [
    "# 1. Imports"
   ]
  },
  {
   "cell_type": "code",
   "execution_count": 1,
   "id": "cc4d5612",
   "metadata": {},
   "outputs": [
    {
     "name": "stdout",
     "output_type": "stream",
     "text": [
      "0.10.1\n"
     ]
    }
   ],
   "source": [
    "from sklearn.decomposition import PCA\n",
    "import matplotlib as mpl \n",
    "import numpy as np\n",
    "import os\n",
    "import pandas as pd\n",
    "import pickle\n",
    "\n",
    "from sklearn.model_selection import train_test_split\n",
    "from sklearn.metrics import confusion_matrix, accuracy_score\n",
    "from sklearn.metrics import f1_score\n",
    "from imblearn.over_sampling import RandomOverSampler\n",
    "from sklearn.preprocessing import StandardScaler\n",
    "\n",
    "\n",
    "from utils import stratified_train_test_group_kfold\n",
    "from utils import model_test_classification\n",
    "\n",
    "from classification_codes import knc_gridsearch\n",
    "\n"
   ]
  },
  {
   "cell_type": "markdown",
   "id": "4e8bcbb4",
   "metadata": {},
   "source": [
    "# 2. Data"
   ]
  },
  {
   "cell_type": "code",
   "execution_count": 2,
   "id": "6c5fee16",
   "metadata": {},
   "outputs": [],
   "source": [
    "\n",
    "with open(\"Data/MoS2_Analysis_Cropped_trained\", \"rb\") as fp:   # Unpickling\n",
    "    MoS2_Proj1_Class_Data = pickle.load(fp)\n",
    "\n",
    "#features = MoS2_ImageNet_100_data[0]\n",
    "df = pd.DataFrame(MoS2_Proj1_Class_Data)\n",
    "#T_dict= {900:0, 950:1, 1000:2}\n",
    "T_target = np.array([item for item in df['T']])\n",
    "\n",
    "features = np.array(list(df['ImageNet']))\n",
    "sampleId = [item for item in df['sampleId']]\n",
    "\n",
    "X = features\n",
    "Y = np.array(T_target)\n",
    "groups = np.array(sampleId)\n",
    "\n",
    "\n",
    "train_val_groups, train_val_X, train_val_Y, test_X, test_Y = stratified_train_test_group_kfold(X, Y, groups, n_splits=10, test_fold=0)\n",
    "\n",
    "scaler = StandardScaler().fit(X)\n",
    "X = scaler.transform(X)\n",
    "#val_X = scaler.transform(val_X)\n",
    "\n",
    "Y = Y.flatten()\n",
    "\n",
    "\n",
    "\n",
    "print(train_X.shape)\n",
    "print(train_Y.shape)\n",
    "print(val_X.shape)\n",
    "print(val_Y.shape)\n"
   ]
  },
  {
   "cell_type": "markdown",
   "id": "81888d59",
   "metadata": {},
   "source": [
    "# 3. Runing Cross-Validation"
   ]
  },
  {
   "cell_type": "code",
   "execution_count": 5,
   "id": "4f070967",
   "metadata": {},
   "outputs": [
    {
     "name": "stdout",
     "output_type": "stream",
     "text": [
      "<class 'generator'>\n",
      "best_train_acc: 1.000, best_val_acc: 0.432\n",
      "best_train_acc: 1.000, best_val_acc: 0.459\n",
      "best_train_acc: 1.000, best_val_acc: 0.541\n",
      "best_train_acc: 1.000, best_val_acc: 0.568\n",
      "best_train_acc: 0.910, best_val_acc: 0.595\n",
      "fold: 0 done!\n",
      "<class 'generator'>\n",
      "best_train_acc: 1.000, best_val_acc: 0.149\n",
      "best_train_acc: 1.000, best_val_acc: 0.270\n",
      "best_train_acc: 1.000, best_val_acc: 0.297\n",
      "best_train_acc: 0.898, best_val_acc: 0.392\n",
      "best_train_acc: 0.821, best_val_acc: 0.500\n",
      "best_train_acc: 0.742, best_val_acc: 0.514\n",
      "fold: 1 done!\n",
      "<class 'generator'>\n",
      "best_train_acc: 1.000, best_val_acc: 0.347\n",
      "best_train_acc: 0.901, best_val_acc: 0.431\n",
      "best_train_acc: 0.737, best_val_acc: 0.444\n",
      "best_train_acc: 0.716, best_val_acc: 0.514\n",
      "best_train_acc: 0.721, best_val_acc: 0.528\n",
      "best_train_acc: 1.000, best_val_acc: 0.569\n",
      "fold: 2 done!\n",
      "<class 'generator'>\n",
      "best_train_acc: 1.000, best_val_acc: 0.403\n",
      "best_train_acc: 1.000, best_val_acc: 0.528\n",
      "best_train_acc: 0.895, best_val_acc: 0.556\n",
      "best_train_acc: 0.907, best_val_acc: 0.625\n",
      "best_train_acc: 0.750, best_val_acc: 0.708\n",
      "fold: 3 done!\n",
      "<class 'generator'>\n",
      "best_train_acc: 1.000, best_val_acc: 0.222\n",
      "best_train_acc: 1.000, best_val_acc: 0.278\n",
      "best_train_acc: 1.000, best_val_acc: 0.292\n",
      "best_train_acc: 0.705, best_val_acc: 0.319\n",
      "fold: 4 done!\n",
      "<class 'generator'>\n",
      "best_train_acc: 1.000, best_val_acc: 0.208\n",
      "best_train_acc: 1.000, best_val_acc: 0.278\n",
      "best_train_acc: 0.847, best_val_acc: 0.306\n",
      "best_train_acc: 0.853, best_val_acc: 0.333\n",
      "best_train_acc: 0.809, best_val_acc: 0.389\n",
      "best_train_acc: 0.745, best_val_acc: 0.403\n",
      "best_train_acc: 1.000, best_val_acc: 0.431\n",
      "fold: 5 done!\n",
      "<class 'generator'>\n",
      "best_train_acc: 1.000, best_val_acc: 0.364\n",
      "best_train_acc: 1.000, best_val_acc: 0.409\n",
      "best_train_acc: 0.817, best_val_acc: 0.455\n",
      "best_train_acc: 0.777, best_val_acc: 0.470\n",
      "best_train_acc: 0.703, best_val_acc: 0.485\n",
      "fold: 6 done!\n",
      "<class 'generator'>\n",
      "best_train_acc: 1.000, best_val_acc: 0.439\n",
      "fold: 7 done!\n",
      "<class 'generator'>\n",
      "best_train_acc: 1.000, best_val_acc: 0.242\n",
      "best_train_acc: 1.000, best_val_acc: 0.258\n",
      "best_train_acc: 1.000, best_val_acc: 0.364\n",
      "fold: 8 done!\n",
      "<class 'generator'>\n",
      "best_train_acc: 1.000, best_val_acc: 0.569\n",
      "best_train_acc: 1.000, best_val_acc: 0.585\n",
      "fold: 9 done!\n",
      "[0.9104, 0.7424, 1.0, 0.7496012759170654, 0.7049441786283892, 1.0, 0.7030015797788309, 1.0, 1.0, 1.0]\n",
      "[0.5945945945945946, 0.5135135135135135, 0.5694444444444444, 0.7083333333333334, 0.3194444444444444, 0.4305555555555556, 0.48484848484848486, 0.4393939393939394, 0.36363636363636365, 0.5846153846153846]\n",
      "train_acc_mean: 0.8810347034324286, std: 0.13069966430232535, val_acc_mean: 0.5008380058380058, std: 0.11154790254137192\n"
     ]
    }
   ],
   "source": [
    "N_neighbors = [i for i in range(3, 15)]\n",
    "Weights = ['uniform', 'distance']\n",
    "Algorithm = ['auto', 'ball_tree', 'kd_tree', 'brute']\n",
    "P = [i for i in range(1, 6)]\n",
    "\n",
    "\n",
    "def cross_10_folds_knn(X, Y):\n",
    "    \n",
    "    best_train = []\n",
    "    best_val = []\n",
    "    best_variables = []\n",
    "    for fold in range(10):\n",
    "        \n",
    "        model_path = f'classification/ImageNet/aug1/KNC_{fold}_model.sav'\n",
    "        group, train_X, train_Y, val_X, val_Y = stratified_train_test_group_kfold(X, Y, groups, n_splits=10, test_fold=fold)\n",
    "        \n",
    "        #train_X, train_Y = oversample.fit_resample(train_X, train_Y)\n",
    "        variables_best, performance_best = knc_gridsearch(train_X, train_Y, val_X, val_Y, N_neighbors, Weights, Algorithm, P, fold, model_path)\n",
    "        best_train.append(performance_best['accuracy_train'])\n",
    "        best_val.append(performance_best['accuracy_val'])\n",
    "        best_variables.append(variables_best)\n",
    "        print(f'fold: {fold} done!')\n",
    "    return best_train, best_val, best_variables\n",
    "\n",
    "\n",
    "best_train, best_val, best_variables = cross_10_folds_knn(X, Y)\n",
    "print(best_train)\n",
    "print(best_val)\n",
    "print(f'train_acc_mean: {np.mean(best_train)}, std: {np.std(best_train)}, val_acc_mean: {np.mean(best_val)}, std: {np.std(best_val)}')"
   ]
  },
  {
   "cell_type": "code",
   "execution_count": 6,
   "id": "76b865e5",
   "metadata": {},
   "outputs": [
    {
     "name": "stdout",
     "output_type": "stream",
     "text": [
      "<class 'generator'>\n",
      "<class 'generator'>\n",
      "<class 'generator'>\n",
      "<class 'generator'>\n",
      "<class 'generator'>\n",
      "<class 'generator'>\n",
      "<class 'generator'>\n",
      "<class 'generator'>\n",
      "<class 'generator'>\n",
      "<class 'generator'>\n",
      "f1_train: 0.8753405583079473, std: 0.1375301828154821, f1_val: 0.47929096130042026, std: 0.1250943793043801\n"
     ]
    }
   ],
   "source": [
    "import numpy as np\n",
    "from sklearn.metrics import f1_score\n",
    "\n",
    "\n",
    "def f1score_fn(X, Y):\n",
    "\n",
    "    F1_score_train = []\n",
    "    F1_score_val = []\n",
    "    for fold in range(10):\n",
    "        \n",
    "        group, train_X, train_Y, val_X, val_Y = stratified_train_test_group_kfold(X, Y, groups, n_splits=10, test_fold=fold)\n",
    "        #train_X, train_Y = oversample.fit_resample(train_X, train_Y)\n",
    "        model_path = f'classification/ImageNet/aug1/KNC_{fold}_model.sav'\n",
    "        \n",
    "        PATH = os.path.join('Model', model_path)\n",
    "        \n",
    "        loaded_model = pickle.load(open(PATH, 'rb'))\n",
    "\n",
    "        pred_val_Y = loaded_model.predict(val_X)\n",
    "        pred_train_Y = loaded_model.predict(train_X)\n",
    "\n",
    "        f_score_train = f1_score(train_Y, pred_train_Y, average='macro')#'weighted')\n",
    "        f_score_val = f1_score(val_Y, pred_val_Y, average='macro')#'weighted')\n",
    "\n",
    "        F1_score_train.append(f_score_train)\n",
    "        F1_score_val.append(f_score_val)\n",
    "    \n",
    "    return F1_score_train, F1_score_val\n",
    "\n",
    "\n",
    "\n",
    "F1_score_train, F1_score_val = f1score_fn(X, Y)\n",
    "\n",
    "\n",
    "print(f'f1_train: {np.mean(F1_score_train)}, std: {np.std(F1_score_train)}, f1_val: {np.mean(F1_score_val)}, std: {np.std(F1_score_val)}')\n"
   ]
  },
  {
   "cell_type": "code",
   "execution_count": null,
   "id": "b68f5a80",
   "metadata": {},
   "outputs": [],
   "source": []
  }
 ],
 "metadata": {
  "kernelspec": {
   "display_name": "Python [conda env:torchvision] *",
   "language": "python",
   "name": "conda-env-torchvision-py"
  },
  "language_info": {
   "codemirror_mode": {
    "name": "ipython",
    "version": 3
   },
   "file_extension": ".py",
   "mimetype": "text/x-python",
   "name": "python",
   "nbconvert_exporter": "python",
   "pygments_lexer": "ipython3",
   "version": "3.10.6"
  }
 },
 "nbformat": 4,
 "nbformat_minor": 5
}
