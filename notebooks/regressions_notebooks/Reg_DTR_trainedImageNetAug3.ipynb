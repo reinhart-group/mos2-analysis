{
 "cells": [
  {
   "cell_type": "markdown",
   "id": "8eefeeff",
   "metadata": {},
   "source": [
    "# 1.  Imports and Data"
   ]
  },
  {
   "cell_type": "code",
   "execution_count": 1,
   "id": "cc4d5612",
   "metadata": {},
   "outputs": [
    {
     "name": "stdout",
     "output_type": "stream",
     "text": [
      "0.10.1\n"
     ]
    }
   ],
   "source": [
    "from sklearn.decomposition import PCA\n",
    "import matplotlib as mpl \n",
    "import numpy as np\n",
    "import os\n",
    "import pandas as pd\n",
    "import pickle\n",
    "\n",
    "from sklearn.model_selection import train_test_split\n",
    "from sklearn.metrics import confusion_matrix, accuracy_score\n",
    "from sklearn.metrics import mean_squared_error\n",
    "from sklearn.metrics import f1_score\n",
    "from imblearn.over_sampling import RandomOverSampler\n",
    "from sklearn.preprocessing import StandardScaler\n",
    "\n",
    "\n",
    "\n",
    "from utils import stratified_train_test_group_kfold\n",
    "from utils import pred2class\n",
    "from utils import model_test_regression\n",
    "from regression_codes import dtr_gridsearch\n",
    "\n",
    "\n",
    "\n",
    "with open(\"Data/MoS2_Analysis_Data_trained2\", \"rb\") as fp:   # Unpickling\n",
    "    MoS2_Proj1_Class_Data = pickle.load(fp)\n",
    "\n",
    "#features = MoS2_ImageNet_100_data[0]\n",
    "df = pd.DataFrame(MoS2_Proj1_Class_Data)\n",
    "print(df.keys())\n",
    "T_target = np.array(list(df['T']))\n",
    "features = np.array(list(df['ImageNet']))\n",
    "sampleId = np.array(list(df['sampleId']))\n",
    "train_val_sampleId, test_sampleId, train_val_Y, test_Y = train_test_split(sampleId, T_target, test_size=0.1, stratify = T_target, random_state=40)"
   ]
  },
  {
   "cell_type": "markdown",
   "id": "159e9735",
   "metadata": {},
   "source": [
    "# 2. Data Splitting and Scaling"
   ]
  },
  {
   "cell_type": "code",
   "execution_count": 2,
   "id": "6c5fee16",
   "metadata": {},
   "outputs": [
    {
     "name": "stdout",
     "output_type": "stream",
     "text": [
      "Index(['sampleId', 'sampleLabel', 'image', 'T', 'ImageNet', 'MicroNet'], dtype='object')\n"
     ]
    }
   ],
   "source": [
    "\n",
    "\n",
    "X = features\n",
    "Y = np.array(T_target)\n",
    "groups = np.array(sampleId)\n",
    "\n",
    "\n",
    "\n",
    "\n",
    "train_val_groups, train_val_X, train_val_Y, test_X, test_Y = stratified_train_test_group_kfold(X, Y, groups, n_splits=10, test_fold=0)\n",
    "train_val_Y = train_val_Y.flatten()\n",
    "#val_Y = val_Y.flatten()\n",
    "test_Y = test_Y.flatten()\n",
    "\n",
    "print(train_val_X.shape)\n",
    "print(train_val_Y.shape)\n",
    "print(test_X.shape)\n",
    "print(test_Y.shape)\n",
    "\n",
    "\n",
    "oversample = RandomOverSampler(sampling_strategy='not majority')\n",
    "\n",
    "scaler = StandardScaler().fit(train_val_X)\n",
    "train_val_X = scaler.transform(train_val_X)\n",
    "test_X = scaler.transform(test_X)"
   ]
  },
  {
   "cell_type": "markdown",
   "id": "b383213d",
   "metadata": {},
   "source": [
    "# 3. Runing Cross-Validation"
   ]
  },
  {
   "cell_type": "code",
   "execution_count": 6,
   "id": "18c27744",
   "metadata": {},
   "outputs": [
    {
     "name": "stdout",
     "output_type": "stream",
     "text": [
      "<class 'generator'>\n",
      "best_train_acc: 0.726984126984127, best_val_acc: 0.625\n",
      "best_train_acc: 0.8031746031746032, best_val_acc: 0.6666666666666666\n",
      "best_train_acc: 0.8888888888888888, best_val_acc: 0.7083333333333334\n",
      "fold: 0 done!\n",
      "<class 'generator'>\n",
      "best_train_acc: 0.8050314465408805, best_val_acc: 0.625\n",
      "best_train_acc: 0.8427672955974843, best_val_acc: 0.7083333333333334\n",
      "best_train_acc: 0.9559748427672956, best_val_acc: 0.75\n",
      "fold: 1 done!\n",
      "<class 'generator'>\n",
      "best_train_acc: 0.7924528301886793, best_val_acc: 0.5416666666666666\n",
      "best_train_acc: 0.8050314465408805, best_val_acc: 0.625\n",
      "best_train_acc: 0.8176100628930818, best_val_acc: 0.75\n",
      "best_train_acc: 0.8364779874213837, best_val_acc: 0.7916666666666666\n",
      "best_train_acc: 0.8616352201257862, best_val_acc: 0.8333333333333334\n",
      "fold: 2 done!\n",
      "<class 'generator'>\n",
      "best_train_acc: 0.746031746031746, best_val_acc: 0.7083333333333334\n",
      "best_train_acc: 0.8285714285714286, best_val_acc: 0.75\n",
      "fold: 3 done!\n",
      "<class 'generator'>\n",
      "best_train_acc: 0.765079365079365, best_val_acc: 0.6666666666666666\n",
      "best_train_acc: 0.8507936507936508, best_val_acc: 0.7083333333333334\n",
      "best_train_acc: 0.8857142857142857, best_val_acc: 0.7916666666666666\n",
      "best_train_acc: 0.8888888888888888, best_val_acc: 0.8333333333333334\n",
      "fold: 4 done!\n",
      "<class 'generator'>\n",
      "best_train_acc: 0.819047619047619, best_val_acc: 0.6521739130434783\n",
      "best_train_acc: 0.819047619047619, best_val_acc: 0.8695652173913043\n",
      "fold: 5 done!\n",
      "<class 'generator'>\n",
      "best_train_acc: 0.7206349206349206, best_val_acc: 0.5652173913043478\n",
      "best_train_acc: 0.8253968253968254, best_val_acc: 0.6086956521739131\n",
      "best_train_acc: 0.8761904761904762, best_val_acc: 0.6521739130434783\n",
      "best_train_acc: 0.8761904761904762, best_val_acc: 0.7391304347826086\n",
      "fold: 6 done!\n",
      "<class 'generator'>\n",
      "best_train_acc: 0.726984126984127, best_val_acc: 0.5652173913043478\n",
      "best_train_acc: 0.7396825396825397, best_val_acc: 0.6086956521739131\n",
      "best_train_acc: 0.8444444444444444, best_val_acc: 0.7391304347826086\n",
      "fold: 7 done!\n",
      "<class 'generator'>\n",
      "best_train_acc: 0.7492063492063492, best_val_acc: 0.5652173913043478\n",
      "best_train_acc: 0.8031746031746032, best_val_acc: 0.6086956521739131\n",
      "fold: 8 done!\n",
      "<class 'generator'>\n",
      "best_train_acc: 0.8018867924528302, best_val_acc: 0.6086956521739131\n",
      "best_train_acc: 0.839622641509434, best_val_acc: 0.6521739130434783\n",
      "best_train_acc: 0.8584905660377359, best_val_acc: 0.6956521739130435\n",
      "fold: 9 done!\n",
      "[0.8888888888888888, 0.9559748427672956, 0.8616352201257862, 0.8285714285714286, 0.8888888888888888, 0.819047619047619, 0.8761904761904762, 0.8444444444444444, 0.8031746031746032, 0.8584905660377359]\n",
      "[0.7083333333333334, 0.75, 0.8333333333333334, 0.75, 0.8333333333333334, 0.8695652173913043, 0.7391304347826086, 0.7391304347826086, 0.6086956521739131, 0.6956521739130435]\n",
      "train_acc_mean: 0.863, std: 0.041, val_acc_mean: 0.753, std: 0.073\n"
     ]
    }
   ],
   "source": [
    "Criterion = ['squared_error', 'friedman_mse', 'absolute_error', 'poisson']\n",
    "Max_depth =[5, 6, 7, 8, None]\n",
    "Min_samples_split = [i*0.1 for i in range(1, 10, 1)]\n",
    "Max_features =[0.1, 0.2, 0.4, 'log2', 'sqrt', None]# ['auto', 'sqrt', 'log2', None]\n",
    "\n",
    "\n",
    "def cross_10_folds_gpc(train_val_X, train_val_Y):\n",
    "    \n",
    "    best_train = []\n",
    "    best_val = []\n",
    "    best_variables = []\n",
    "    for fold in range(10):\n",
    "        group, train_X, train_Y, val_X, val_Y = stratified_train_test_group_kfold(train_val_X, train_val_Y, train_val_groups, n_splits=10, test_fold=fold)\n",
    "        \n",
    "        model_path = f'regression/ImageNet/aug3/DTR_{fold}_model.sav'\n",
    "        \n",
    "        train_X, train_Y = oversample.fit_resample(train_X, train_Y)\n",
    "        variables_best, performance_best = dtr_gridsearch(train_X, train_Y, val_X, val_Y, Criterion,Max_depth, Min_samples_split, Max_features, fold, model_path)\n",
    "        best_train.append(performance_best['accuracy_train'])\n",
    "        best_val.append(performance_best['accuracy_val'])\n",
    "        best_variables.append(variables_best)\n",
    "        print(f'fold: {fold} done!')\n",
    "    return best_train, best_val, best_variables\n",
    "\n",
    "\n",
    "best_train, best_val, best_variables = cross_10_folds_gpc(train_val_X, train_val_Y)\n",
    "\n",
    "#with open(\"Model/Reg/TrainedImageNet/Up/DTR_RegModels_T_best_variables\", \"wb\") as fb:\n",
    "#    pickle.dump(best_variables, fb)\n",
    "\n",
    "\n",
    "print(best_train)\n",
    "print(best_val)\n",
    "print(f'train_acc_mean: {np.mean(best_train) :.3f}, std: {np.std(best_train) :.3f}, val_acc_mean: {np.mean(best_val):.3f}, std: {np.std(best_val):.3f}')"
   ]
  },
  {
   "cell_type": "markdown",
   "id": "bb1fbe16",
   "metadata": {},
   "source": [
    "# 4. Model Testing"
   ]
  },
  {
   "cell_type": "code",
   "execution_count": 5,
   "id": "16c09e27",
   "metadata": {},
   "outputs": [
    {
     "name": "stdout",
     "output_type": "stream",
     "text": [
      "<class 'generator'>\n",
      "<class 'generator'>\n",
      "<class 'generator'>\n",
      "<class 'generator'>\n",
      "<class 'generator'>\n",
      "<class 'generator'>\n",
      "<class 'generator'>\n",
      "<class 'generator'>\n",
      "<class 'generator'>\n",
      "<class 'generator'>\n",
      "best_test:  [0.4444444444444444, 0.48148148148148145, 0.6296296296296297, 0.5555555555555556, 0.5555555555555556, 0.5185185185185185, 0.5925925925925926, 0.48148148148148145, 0.5555555555555556, 0.5925925925925926]\n",
      "rmse:  [40.824829046386306, 46.14791034954486, 30.429030972509228, 37.26779962499649, 33.333333333333336, 38.490017945975055, 31.91423692521127, 36.00411499115478, 44.09585518440984, 39.67460238079361]\n",
      "test_acc_mean: 0.541, std: 0.055, rmse_mean: 37.818173075431474, rmse_std: 4.846595603143858\n",
      "......\n",
      "5th confusion matrix:  [[2, 1, 0], [2, 6, 5], [0, 4, 7]]\n"
     ]
    }
   ],
   "source": [
    "best_fold =2\n",
    "\n",
    "model_path = f'regression/ImageNet/aug3/DTR_{best_fold}_model.sav'\n",
    "# Fitting different train in the same hyperparameters\n",
    "best_test, root_mean_squared_error, confusion_matrix_test = model_test_regression(train_val_X, train_val_Y, train_val_groups,test_X, test_Y, best_fold, model_path)\n",
    "\n",
    "print('best_test: ', best_test)\n",
    "print('rmse: ', root_mean_squared_error)\n",
    "print(f'test_acc_mean: {np.mean(best_test) :.3f}, std: {np.std(best_test) :.3f}, rmse_mean: {np.mean(root_mean_squared_error)}, rmse_std: {np.std(root_mean_squared_error)}')\n",
    "\n",
    "print(\"......\")\n",
    "\n",
    "print('5th confusion matrix: ', [list(item) for item in confusion_matrix_test[4]])"
   ]
  },
  {
   "cell_type": "code",
   "execution_count": 6,
   "id": "e91f1ecb",
   "metadata": {},
   "outputs": [
    {
     "name": "stdout",
     "output_type": "stream",
     "text": [
      "10\n",
      "avg cm:  [[1.7, 1.3, 0.0], [2.3, 5.4, 5.3], [1.1, 2.4, 7.5]]\n"
     ]
    }
   ],
   "source": [
    "cm_list = []\n",
    "for cm in confusion_matrix_test:\n",
    "    cm_list.append([list(item) for item in cm])\n",
    "#print(cm_list)\n",
    "\n",
    "print(len(cm_list))\n",
    "print('avg cm: ', [list(item) for item in np.mean(cm_list, axis=0)])\n"
   ]
  },
  {
   "cell_type": "code",
   "execution_count": 3,
   "id": "a164277f",
   "metadata": {},
   "outputs": [
    {
     "data": {
      "text/plain": [
       "{'ccp_alpha': 0.0,\n",
       " 'criterion': 'absolute_error',\n",
       " 'max_depth': None,\n",
       " 'max_features': 0.1,\n",
       " 'max_leaf_nodes': None,\n",
       " 'min_impurity_decrease': 0.0,\n",
       " 'min_samples_leaf': 1,\n",
       " 'min_samples_split': 0.2,\n",
       " 'min_weight_fraction_leaf': 0.0,\n",
       " 'random_state': 1,\n",
       " 'splitter': 'best'}"
      ]
     },
     "execution_count": 3,
     "metadata": {},
     "output_type": "execute_result"
    }
   ],
   "source": [
    "best_fold = 2\n",
    "PATH = f'Model/Reg/TrainedImageNet/Up/DTR_{best_fold}_model.sav'\n",
    "#PATH = os.path.join('Model', model_path)\n",
    "loaded_model = pickle.load(open(PATH, 'rb'))\n",
    "loaded_model.get_params()"
   ]
  },
  {
   "cell_type": "code",
   "execution_count": null,
   "id": "71ac94fa",
   "metadata": {},
   "outputs": [],
   "source": []
  }
 ],
 "metadata": {
  "kernelspec": {
   "display_name": "Python [conda env:torchvision] *",
   "language": "python",
   "name": "conda-env-torchvision-py"
  },
  "language_info": {
   "codemirror_mode": {
    "name": "ipython",
    "version": 3
   },
   "file_extension": ".py",
   "mimetype": "text/x-python",
   "name": "python",
   "nbconvert_exporter": "python",
   "pygments_lexer": "ipython3",
   "version": "3.10.6"
  }
 },
 "nbformat": 4,
 "nbformat_minor": 5
}
