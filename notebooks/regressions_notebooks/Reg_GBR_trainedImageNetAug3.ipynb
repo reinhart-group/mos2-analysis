{
 "cells": [
  {
   "cell_type": "markdown",
   "id": "2ee63d78",
   "metadata": {},
   "source": [
    "# 1.  Imports and Data"
   ]
  },
  {
   "cell_type": "code",
   "execution_count": 1,
   "id": "cc4d5612",
   "metadata": {},
   "outputs": [
    {
     "name": "stdout",
     "output_type": "stream",
     "text": [
      "0.10.1\n"
     ]
    }
   ],
   "source": [
    "from sklearn.decomposition import PCA\n",
    "import matplotlib as mpl \n",
    "import numpy as np\n",
    "import os\n",
    "import pandas as pd\n",
    "import pickle\n",
    "\n",
    "from sklearn.model_selection import train_test_split\n",
    "from sklearn.metrics import confusion_matrix, accuracy_score\n",
    "from sklearn.metrics import mean_squared_error\n",
    "from sklearn.metrics import f1_score\n",
    "from imblearn.over_sampling import RandomOverSampler\n",
    "from sklearn.preprocessing import StandardScaler\n",
    "\n",
    "\n",
    "\n",
    "from codes.utils import stratified_train_test_group_kfold\n",
    "from codes.utils import pred2class\n",
    "from codes.utils import model_test_regression\n",
    "from codes.regression_codes import gbr_gridsearch\n",
    "\n",
    "\n",
    "\n",
    "with open(\"Data/MoS2_Analysis_Data_trained2\", \"rb\") as fp:   # Unpickling\n",
    "    MoS2_Proj1_Class_Data = pickle.load(fp)\n",
    "\n",
    "#features = MoS2_ImageNet_100_data[0]\n",
    "df = pd.DataFrame(MoS2_Proj1_Class_Data)\n",
    "print(df.keys())\n",
    "T_target = np.array(list(df['T']))\n",
    "features = np.array(list(df['ImageNet']))\n",
    "sampleId = np.array(list(df['sampleId']))\n",
    "train_val_sampleId, test_sampleId, train_val_Y, test_Y = train_test_split(sampleId, T_target, test_size=0.1, stratify = T_target, random_state=40)"
   ]
  },
  {
   "cell_type": "markdown",
   "id": "046a3883",
   "metadata": {},
   "source": [
    "# 2. Data Splitting and Scaling"
   ]
  },
  {
   "cell_type": "code",
   "execution_count": 2,
   "id": "1557541e",
   "metadata": {},
   "outputs": [
    {
     "name": "stdout",
     "output_type": "stream",
     "text": [
      "Index(['sampleId', 'sampleLabel', 'image', 'T', 'ImageNet', 'MicroNet'], dtype='object')\n"
     ]
    }
   ],
   "source": [
    "\n",
    "\n",
    "X = features\n",
    "Y = np.array(T_target)\n",
    "groups = np.array(sampleId)\n",
    "\n",
    "\n",
    "\n",
    "\n",
    "train_val_groups, train_val_X, train_val_Y, test_X, test_Y = stratified_train_test_group_kfold(X, Y, groups, n_splits=10, test_fold=0)\n",
    "train_val_Y = train_val_Y.flatten()\n",
    "#val_Y = val_Y.flatten()\n",
    "test_Y = test_Y.flatten()\n",
    "\n",
    "print(train_val_X.shape)\n",
    "print(train_val_Y.shape)\n",
    "print(test_X.shape)\n",
    "print(test_Y.shape)\n",
    "\n",
    "\n",
    "oversample = RandomOverSampler(sampling_strategy='not majority')\n",
    "\n",
    "scaler = StandardScaler().fit(train_val_X)\n",
    "train_val_X = scaler.transform(train_val_X)\n",
    "test_X = scaler.transform(test_X)"
   ]
  },
  {
   "cell_type": "markdown",
   "id": "84e68d3a",
   "metadata": {},
   "source": [
    "# 3. Runing Cross-Validation"
   ]
  },
  {
   "cell_type": "code",
   "execution_count": 6,
   "id": "18c27744",
   "metadata": {},
   "outputs": [
    {
     "name": "stdout",
     "output_type": "stream",
     "text": [
      "<class 'generator'>\n",
      "best_train_acc: 0.3333333333333333, best_val_acc: 0.5\n",
      "best_train_acc: 1.0, best_val_acc: 0.6666666666666666\n",
      "best_train_acc: 0.9968253968253968, best_val_acc: 0.7083333333333334\n",
      "best_train_acc: 1.0, best_val_acc: 0.75\n",
      "fold: 0 done!\n",
      "<class 'generator'>\n",
      "best_train_acc: 0.3333333333333333, best_val_acc: 0.4583333333333333\n",
      "best_train_acc: 0.9779874213836478, best_val_acc: 0.6666666666666666\n",
      "best_train_acc: 1.0, best_val_acc: 0.7083333333333334\n",
      "fold: 1 done!\n",
      "<class 'generator'>\n",
      "best_train_acc: 0.3333333333333333, best_val_acc: 0.4583333333333333\n",
      "best_train_acc: 0.9905660377358491, best_val_acc: 0.5416666666666666\n",
      "best_train_acc: 0.9937106918238994, best_val_acc: 0.5833333333333334\n",
      "best_train_acc: 1.0, best_val_acc: 0.625\n",
      "best_train_acc: 1.0, best_val_acc: 0.6666666666666666\n",
      "best_train_acc: 1.0, best_val_acc: 0.7083333333333334\n",
      "fold: 2 done!\n",
      "<class 'generator'>\n",
      "best_train_acc: 0.3333333333333333, best_val_acc: 0.5\n",
      "best_train_acc: 0.9936507936507937, best_val_acc: 0.6666666666666666\n",
      "best_train_acc: 1.0, best_val_acc: 0.75\n",
      "best_train_acc: 1.0, best_val_acc: 0.7916666666666666\n",
      "best_train_acc: 1.0, best_val_acc: 0.8333333333333334\n",
      "fold: 3 done!\n",
      "<class 'generator'>\n",
      "best_train_acc: 0.3333333333333333, best_val_acc: 0.5\n",
      "best_train_acc: 0.9555555555555556, best_val_acc: 0.75\n",
      "best_train_acc: 0.9777777777777777, best_val_acc: 0.7916666666666666\n",
      "best_train_acc: 1.0, best_val_acc: 0.875\n",
      "fold: 4 done!\n",
      "<class 'generator'>\n",
      "best_train_acc: 0.3333333333333333, best_val_acc: 0.5217391304347826\n",
      "best_train_acc: 0.9777777777777777, best_val_acc: 0.6956521739130435\n",
      "best_train_acc: 0.9746031746031746, best_val_acc: 0.7391304347826086\n",
      "best_train_acc: 0.9777777777777777, best_val_acc: 0.782608695652174\n",
      "best_train_acc: 1.0, best_val_acc: 0.8260869565217391\n",
      "best_train_acc: 1.0, best_val_acc: 0.8695652173913043\n",
      "fold: 5 done!\n",
      "<class 'generator'>\n",
      "best_train_acc: 0.3333333333333333, best_val_acc: 0.5217391304347826\n",
      "best_train_acc: 0.9809523809523809, best_val_acc: 0.5652173913043478\n",
      "best_train_acc: 0.9904761904761905, best_val_acc: 0.6956521739130435\n",
      "best_train_acc: 1.0, best_val_acc: 0.7391304347826086\n",
      "best_train_acc: 1.0, best_val_acc: 0.782608695652174\n",
      "fold: 6 done!\n",
      "<class 'generator'>\n",
      "best_train_acc: 0.3333333333333333, best_val_acc: 0.5217391304347826\n",
      "best_train_acc: 0.9619047619047619, best_val_acc: 0.6521739130434783\n",
      "best_train_acc: 0.9873015873015873, best_val_acc: 0.6956521739130435\n",
      "fold: 7 done!\n",
      "<class 'generator'>\n",
      "best_train_acc: 0.3333333333333333, best_val_acc: 0.5217391304347826\n",
      "best_train_acc: 0.9777777777777777, best_val_acc: 0.5652173913043478\n",
      "best_train_acc: 1.0, best_val_acc: 0.6521739130434783\n",
      "fold: 8 done!\n",
      "<class 'generator'>\n",
      "best_train_acc: 0.3333333333333333, best_val_acc: 0.4782608695652174\n",
      "best_train_acc: 0.9874213836477987, best_val_acc: 0.6521739130434783\n",
      "best_train_acc: 1.0, best_val_acc: 0.6956521739130435\n",
      "fold: 9 done!\n",
      "[1.0, 1.0, 1.0, 1.0, 1.0, 1.0, 1.0, 0.9873015873015873, 1.0, 1.0]\n",
      "[0.75, 0.7083333333333334, 0.7083333333333334, 0.8333333333333334, 0.875, 0.8695652173913043, 0.782608695652174, 0.6956521739130435, 0.6521739130434783, 0.6956521739130435]\n",
      "train_acc_mean: 0.999, std: 0.004, val_acc_mean: 0.757, std: 0.075\n"
     ]
    }
   ],
   "source": [
    "N_estimators = [i for i in range(100, 700, 100)]\n",
    "\n",
    "Learning_rate = [0.0, 0.001, 0.01, 0.1, 1]\n",
    "\n",
    "Min_samples_split = [i for i in range(2, 15, 3)]\n",
    "\n",
    "Max_depth =[6, 7, 8]# [2, 3, 4, 5, 6, 7]#8, 9, 10]\n",
    "\n",
    "\n",
    "def cross_10_folds_gpr(train_val_X, train_val_Y):\n",
    "    \n",
    "    best_train = []\n",
    "    best_val = []\n",
    "    best_variables = []\n",
    "    for fold in range(10):\n",
    "        #train_X, val_X, train_Y, val_Y = train_test_split(train_val_X, train_val_Y, test_size=0.1, stratify = train_val_Y, random_state=fold+30)#39, 42\n",
    "        group, train_X, train_Y, val_X, val_Y = stratified_train_test_group_kfold(train_val_X, train_val_Y, train_val_groups, n_splits=10, test_fold=fold)\n",
    "        \n",
    "        model_path = f'regression/ImageNet/aug3/GBR_{fold}_model.sav'\n",
    "        \n",
    "        train_X, train_Y = oversample.fit_resample(train_X, train_Y)\n",
    "        variables_best, performance_best = gbr_gridsearch(train_X, train_Y, val_X, val_Y, N_estimators, Learning_rate, Min_samples_split,Max_depth,fold, model_path)\n",
    "        best_train.append(performance_best['accuracy_train'])\n",
    "        best_val.append(performance_best['accuracy_val'])\n",
    "        best_variables.append(variables_best)\n",
    "        print(f'fold: {fold} done!')\n",
    "    return best_train, best_val, best_variables\n",
    "\n",
    "\n",
    "best_train, best_val, best_variables = cross_10_folds_gpr(train_val_X, train_val_Y)\n",
    "\n",
    "\n",
    "\n",
    "\n",
    "print(best_train)\n",
    "print(best_val)\n",
    "print(f'train_acc_mean: {np.mean(best_train) :.3f}, std: {np.std(best_train) :.3f}, val_acc_mean: {np.mean(best_val):.3f}, std: {np.std(best_val):.3f}')"
   ]
  },
  {
   "cell_type": "markdown",
   "id": "2f7f0bb1",
   "metadata": {},
   "source": [
    "# 4. Model Testing"
   ]
  },
  {
   "cell_type": "code",
   "execution_count": 5,
   "id": "16c09e27",
   "metadata": {},
   "outputs": [
    {
     "name": "stdout",
     "output_type": "stream",
     "text": [
      "<class 'generator'>\n",
      "<class 'generator'>\n",
      "<class 'generator'>\n",
      "<class 'generator'>\n",
      "<class 'generator'>\n",
      "<class 'generator'>\n",
      "<class 'generator'>\n",
      "<class 'generator'>\n",
      "<class 'generator'>\n",
      "<class 'generator'>\n",
      "best_test:  [0.7407407407407407, 0.6296296296296297, 0.7037037037037037, 0.6296296296296297, 0.5925925925925926, 0.6296296296296297, 0.7037037037037037, 0.48148148148148145, 0.6666666666666666, 0.6296296296296297]\n",
      "rmse:  [23.37475167130802, 26.564861582857386, 30.13081068946875, 30.5099771954552, 28.888600282476304, 26.933433020524586, 23.052812772196315, 30.430147084033756, 30.235067648625613, 28.349797177007]\n",
      "test_acc_mean: 0.641, std: 0.068, rmse_mean: 27.847025912395292, rmse_std: 2.6736531326890915\n",
      "......\n",
      "5th confusion matrix:  [[0, 3, 0], [1, 10, 2], [0, 5, 6]]\n"
     ]
    }
   ],
   "source": [
    "best_fold = 4\n",
    "\n",
    "model_path = f'regression/ImageNet/aug3/GBR_{best_fold}_model.sav'\n",
    "\n",
    "# Fitting different train in the same hyperparameters\n",
    "best_test, root_mean_squared_error, confusion_matrix_test = model_test_regression(train_val_X, train_val_Y, train_val_groups,test_X, test_Y, best_fold, model_path)\n",
    "\n",
    "print('best_test: ', best_test)\n",
    "print('rmse: ', root_mean_squared_error)\n",
    "print(f'test_acc_mean: {np.mean(best_test) :.3f}, std: {np.std(best_test) :.3f}, rmse_mean: {np.mean(root_mean_squared_error)}, rmse_std: {np.std(root_mean_squared_error)}')\n",
    "\n",
    "print(\"......\")\n",
    "\n",
    "print('5th confusion matrix: ', [list(item) for item in confusion_matrix_test[4]])"
   ]
  },
  {
   "cell_type": "code",
   "execution_count": 6,
   "id": "e91f1ecb",
   "metadata": {},
   "outputs": [
    {
     "name": "stdout",
     "output_type": "stream",
     "text": [
      "10\n",
      "avg cm:  [[0.4, 2.6, 0.0], [1.1, 9.7, 2.2], [0.1, 3.7, 7.2]]\n"
     ]
    }
   ],
   "source": [
    "cm_list = []\n",
    "for cm in confusion_matrix_test:\n",
    "    cm_list.append([list(item) for item in cm])\n",
    "#print(cm_list)\n",
    "\n",
    "print(len(cm_list))\n",
    "print('avg cm: ', [list(item) for item in np.mean(cm_list, axis=0)])\n"
   ]
  },
  {
   "cell_type": "code",
   "execution_count": 3,
   "id": "78e0b838",
   "metadata": {},
   "outputs": [
    {
     "data": {
      "text/plain": [
       "{'alpha': 0.9,\n",
       " 'ccp_alpha': 0.0,\n",
       " 'criterion': 'friedman_mse',\n",
       " 'init': None,\n",
       " 'learning_rate': 0.1,\n",
       " 'loss': 'squared_error',\n",
       " 'max_depth': 6,\n",
       " 'max_features': None,\n",
       " 'max_leaf_nodes': None,\n",
       " 'min_impurity_decrease': 0.0,\n",
       " 'min_samples_leaf': 1,\n",
       " 'min_samples_split': 2,\n",
       " 'min_weight_fraction_leaf': 0.0,\n",
       " 'n_estimators': 100,\n",
       " 'n_iter_no_change': None,\n",
       " 'random_state': 1,\n",
       " 'subsample': 1.0,\n",
       " 'tol': 0.0001,\n",
       " 'validation_fraction': 0.1,\n",
       " 'verbose': 0,\n",
       " 'warm_start': False}"
      ]
     },
     "execution_count": 3,
     "metadata": {},
     "output_type": "execute_result"
    }
   ],
   "source": [
    "best_fold = 4\n",
    "PATH = f'Model/Reg/TrainedImageNet/Up/GBC_{best_fold}_model.sav'\n",
    "#PATH = os.path.join('Model', model_path)\n",
    "loaded_model = pickle.load(open(PATH, 'rb'))\n",
    "loaded_model.get_params()\n",
    "#loaded_model.set_params()"
   ]
  },
  {
   "cell_type": "code",
   "execution_count": null,
   "id": "85734723",
   "metadata": {},
   "outputs": [],
   "source": []
  }
 ],
 "metadata": {
  "kernelspec": {
   "display_name": "Python [conda env:torchvision] *",
   "language": "python",
   "name": "conda-env-torchvision-py"
  },
  "language_info": {
   "codemirror_mode": {
    "name": "ipython",
    "version": 3
   },
   "file_extension": ".py",
   "mimetype": "text/x-python",
   "name": "python",
   "nbconvert_exporter": "python",
   "pygments_lexer": "ipython3",
   "version": "3.10.6"
  }
 },
 "nbformat": 4,
 "nbformat_minor": 5
}
