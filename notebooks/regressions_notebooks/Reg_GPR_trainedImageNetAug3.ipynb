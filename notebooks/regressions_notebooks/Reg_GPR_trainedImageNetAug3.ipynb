{
 "cells": [
  {
   "cell_type": "markdown",
   "id": "a6e35c75",
   "metadata": {},
   "source": [
    "# 1.  Imports and Data"
   ]
  },
  {
   "cell_type": "code",
   "execution_count": 1,
   "id": "cc4d5612",
   "metadata": {},
   "outputs": [
    {
     "name": "stdout",
     "output_type": "stream",
     "text": [
      "0.10.1\n"
     ]
    }
   ],
   "source": [
    "from sklearn.decomposition import PCA\n",
    "import matplotlib as mpl \n",
    "import numpy as np\n",
    "import os\n",
    "import pandas as pd\n",
    "import pickle\n",
    "\n",
    "from sklearn.model_selection import train_test_split\n",
    "from sklearn.metrics import confusion_matrix, accuracy_score\n",
    "from sklearn.metrics import f1_score\n",
    "from imblearn.over_sampling import RandomOverSampler\n",
    "from sklearn.preprocessing import StandardScaler\n",
    "\n",
    "\n",
    "\n",
    "from utils import stratified_train_test_group_kfold\n",
    "from utils import pred2class\n",
    "from utils import model_test_regression\n",
    "from regression_codes import gpr_gridsearch\n",
    "\n",
    "\n",
    "\n",
    "with open(\"Data/MoS2_Analysis_Data_trained2\", \"rb\") as fp:   # Unpickling\n",
    "    MoS2_Proj1_Class_Data = pickle.load(fp)\n",
    "\n",
    "#features = MoS2_ImageNet_100_data[0]\n",
    "df = pd.DataFrame(MoS2_Proj1_Class_Data)\n",
    "print(df.keys())\n",
    "T_target = np.array(list(df['T']))\n",
    "features = np.array(list(df['ImageNet']))\n",
    "sampleId = np.array(list(df['sampleId']))\n",
    "train_val_sampleId, test_sampleId, train_val_Y, test_Y = train_test_split(sampleId, T_target, test_size=0.1, stratify = T_target, random_state=40)"
   ]
  },
  {
   "cell_type": "markdown",
   "id": "7b3bd191",
   "metadata": {},
   "source": [
    "# 2. Data Splitting and Scaling"
   ]
  },
  {
   "cell_type": "code",
   "execution_count": 2,
   "id": "6c5fee16",
   "metadata": {},
   "outputs": [
    {
     "name": "stdout",
     "output_type": "stream",
     "text": [
      "Index(['sampleId', 'sampleLabel', 'image', 'T', 'ImageNet', 'MicroNet'], dtype='object')\n"
     ]
    }
   ],
   "source": [
    "\n",
    "\n",
    "X = features\n",
    "Y = np.array(T_target)\n",
    "groups = np.array(sampleId)\n",
    "\n",
    "\n",
    "\n",
    "\n",
    "train_val_groups, train_val_X, train_val_Y, test_X, test_Y = stratified_train_test_group_kfold(X, Y, groups, n_splits=10, test_fold=0)\n",
    "train_val_Y = train_val_Y.flatten()\n",
    "#val_Y = val_Y.flatten()\n",
    "test_Y = test_Y.flatten()\n",
    "\n",
    "print(train_val_X.shape)\n",
    "print(train_val_Y.shape)\n",
    "print(test_X.shape)\n",
    "print(test_Y.shape)\n",
    "\n",
    "\n",
    "oversample = RandomOverSampler(sampling_strategy='not majority')\n",
    "\n",
    "scaler = StandardScaler().fit(train_val_X)\n",
    "train_val_X = scaler.transform(train_val_X)\n",
    "test_X = scaler.transform(test_X)"
   ]
  },
  {
   "cell_type": "code",
   "execution_count": 6,
   "id": "e1bec99e",
   "metadata": {},
   "outputs": [],
   "source": [
    "! mkdir -p 'Model/Reg/TrainedImageNet/Up'"
   ]
  },
  {
   "cell_type": "markdown",
   "id": "203d0500",
   "metadata": {},
   "source": [
    "# 3. Runing Cross-Validation"
   ]
  },
  {
   "cell_type": "code",
   "execution_count": 6,
   "id": "18c27744",
   "metadata": {},
   "outputs": [
    {
     "name": "stdout",
     "output_type": "stream",
     "text": [
      "<class 'generator'>\n",
      "best_train_acc: 1.0, best_val_acc: 0.5\n",
      "fold: 0 done!\n",
      "<class 'generator'>\n",
      "best_train_acc: 1.0, best_val_acc: 0.4583333333333333\n",
      "fold: 1 done!\n",
      "<class 'generator'>\n",
      "best_train_acc: 1.0, best_val_acc: 0.4583333333333333\n",
      "fold: 2 done!\n",
      "<class 'generator'>\n",
      "best_train_acc: 1.0, best_val_acc: 0.5\n",
      "fold: 3 done!\n",
      "<class 'generator'>\n",
      "best_train_acc: 1.0, best_val_acc: 0.5\n",
      "fold: 4 done!\n",
      "<class 'generator'>\n",
      "best_train_acc: 1.0, best_val_acc: 0.5217391304347826\n",
      "fold: 5 done!\n",
      "<class 'generator'>\n",
      "best_train_acc: 1.0, best_val_acc: 0.5217391304347826\n",
      "fold: 6 done!\n",
      "<class 'generator'>\n",
      "best_train_acc: 1.0, best_val_acc: 0.5217391304347826\n",
      "fold: 7 done!\n",
      "<class 'generator'>\n",
      "best_train_acc: 1.0, best_val_acc: 0.5217391304347826\n",
      "fold: 8 done!\n",
      "<class 'generator'>\n",
      "best_train_acc: 1.0, best_val_acc: 0.4782608695652174\n",
      "fold: 9 done!\n",
      "[1.0, 1.0, 1.0, 1.0, 1.0, 1.0, 1.0, 1.0, 1.0, 1.0]\n",
      "[0.5, 0.4583333333333333, 0.4583333333333333, 0.5, 0.5, 0.5217391304347826, 0.5217391304347826, 0.5217391304347826, 0.5217391304347826, 0.4782608695652174]\n",
      "train_acc_mean: 1.000, std: 0.000, val_acc_mean: 0.498, std: 0.024\n"
     ]
    }
   ],
   "source": [
    "N_restarts_optimizer = [i for i in range(12)]\n",
    "Normalize_y = [True, False]\n",
    "Alpha = [1e-4, 1e-5, 1e-6, 1e-7, 1e-8, 1e-9, 1e-10, 1e-12]\n",
    "\n",
    "\n",
    "def cross_10_folds_gpc(train_val_X, train_val_Y):\n",
    "    \n",
    "    best_train = []\n",
    "    best_val = []\n",
    "    best_variables = []\n",
    "    for fold in range(10):\n",
    "        group, train_X, train_Y, val_X, val_Y = stratified_train_test_group_kfold(train_val_X, train_val_Y, train_val_groups, n_splits=10, test_fold=fold)\n",
    "        \n",
    "        model_path = f'regression/ImageNet/aug3/GPR_{fold}_model.sav'\n",
    "        \n",
    "        train_X, train_Y = oversample.fit_resample(train_X, train_Y)\n",
    "        variables_best, performance_best =gpr_gridsearch(train_X, train_Y, val_X, val_Y,Alpha, N_restarts_optimizer, Normalize_y, fold, model_path)\n",
    "        best_train.append(performance_best['accuracy_train'])\n",
    "        best_val.append(performance_best['accuracy_val'])\n",
    "        best_variables.append(variables_best)\n",
    "        print(f'fold: {fold} done!')\n",
    "    return best_train, best_val, best_variables\n",
    "\n",
    "\n",
    "best_train, best_val, best_variables = cross_10_folds_gpc(train_val_X, train_val_Y)\n",
    "\n",
    "\n",
    "\n",
    "\n",
    "print(best_train)\n",
    "print(best_val)\n",
    "print(f'train_acc_mean: {np.mean(best_train) :.3f}, std: {np.std(best_train) :.3f}, val_acc_mean: {np.mean(best_val):.3f}, std: {np.std(best_val):.3f}')"
   ]
  },
  {
   "cell_type": "markdown",
   "id": "150d6f3e",
   "metadata": {},
   "source": [
    "# 4. Model Testing"
   ]
  },
  {
   "cell_type": "code",
   "execution_count": 5,
   "id": "16c09e27",
   "metadata": {},
   "outputs": [
    {
     "name": "stdout",
     "output_type": "stream",
     "text": [
      "<class 'generator'>\n",
      "<class 'generator'>\n",
      "<class 'generator'>\n",
      "<class 'generator'>\n",
      "<class 'generator'>\n",
      "<class 'generator'>\n",
      "<class 'generator'>\n",
      "<class 'generator'>\n",
      "<class 'generator'>\n",
      "<class 'generator'>\n",
      "best_test:  [0.48148148148148145, 0.48148148148148145, 0.48148148148148145, 0.48148148148148145, 0.48148148148148145, 0.48148148148148145, 0.48148148148148145, 0.48148148148148145, 0.48148148148148145, 0.48148148148148145]\n",
      "rmse:  [36.004111547468455, 36.00411158317267, 36.00411187080335, 36.00411154820703, 36.00411154783775, 36.00411158112145, 36.004111549897345, 36.00411154768395, 36.00411448472109, 36.004111695785014]\n",
      "test_acc_mean: 0.481, std: 0.000, rmse_mean: 36.00411189566981, rmse_std: 8.685602119108991e-07\n",
      "......\n",
      "5th confusion matrix:  [[0, 3, 0], [0, 13, 0], [0, 11, 0]]\n"
     ]
    }
   ],
   "source": [
    "best_fold = 5\n",
    "\n",
    "model_path = f'regression/ImageNet/aug3/GPR_{best_fold}_model.sav'\n",
    "# Fitting different train in the same hyperparameters\n",
    "best_test, root_mean_squared_error, confusion_matrix_test = model_test_regression(train_val_X, train_val_Y, train_val_groups,test_X, test_Y, best_fold, model_path)\n",
    "\n",
    "print('best_test: ', best_test)\n",
    "print('rmse: ', root_mean_squared_error)\n",
    "print(f'test_acc_mean: {np.mean(best_test) :.3f}, std: {np.std(best_test) :.3f}, rmse_mean: {np.mean(root_mean_squared_error)}, rmse_std: {np.std(root_mean_squared_error)}')\n",
    "\n",
    "print(\"......\")\n",
    "\n",
    "print('5th confusion matrix: ', [list(item) for item in confusion_matrix_test[4]])"
   ]
  },
  {
   "cell_type": "code",
   "execution_count": 4,
   "id": "3b7782fd",
   "metadata": {},
   "outputs": [
    {
     "data": {
      "text/plain": [
       "{'alpha': 0.0001,\n",
       " 'copy_X_train': True,\n",
       " 'kernel': None,\n",
       " 'n_restarts_optimizer': 0,\n",
       " 'normalize_y': True,\n",
       " 'optimizer': 'fmin_l_bfgs_b',\n",
       " 'random_state': 1}"
      ]
     },
     "execution_count": 4,
     "metadata": {},
     "output_type": "execute_result"
    }
   ],
   "source": [
    "best_fold = 5\n",
    "#PATH = os.path.join('Model', model_path)\n",
    "PATH = f'Model/Reg/TrainedImageNet/Up/GPR_{best_fold}_model.sav'\n",
    "loaded_model = pickle.load(open(PATH, 'rb'))\n",
    "loaded_model.get_params()"
   ]
  },
  {
   "cell_type": "code",
   "execution_count": null,
   "id": "a915c383",
   "metadata": {},
   "outputs": [],
   "source": []
  }
 ],
 "metadata": {
  "kernelspec": {
   "display_name": "Python [conda env:torchvision] *",
   "language": "python",
   "name": "conda-env-torchvision-py"
  },
  "language_info": {
   "codemirror_mode": {
    "name": "ipython",
    "version": 3
   },
   "file_extension": ".py",
   "mimetype": "text/x-python",
   "name": "python",
   "nbconvert_exporter": "python",
   "pygments_lexer": "ipython3",
   "version": "3.10.6"
  }
 },
 "nbformat": 4,
 "nbformat_minor": 5
}
