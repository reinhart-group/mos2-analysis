{
 "cells": [
  {
   "cell_type": "markdown",
   "id": "ccba76ee",
   "metadata": {},
   "source": [
    "# 1.  Imports and Data"
   ]
  },
  {
   "cell_type": "code",
   "execution_count": 1,
   "id": "cc4d5612",
   "metadata": {},
   "outputs": [
    {
     "name": "stdout",
     "output_type": "stream",
     "text": [
      "Index(['sampleId', 'sampleLabel', 'image', 'T', 'ImageNet', 'MicroNet'], dtype='object')\n"
     ]
    }
   ],
   "source": [
    "from sklearn.decomposition import PCA\n",
    "import matplotlib as mpl \n",
    "import numpy as np\n",
    "import os\n",
    "import pandas as pd\n",
    "import pickle\n",
    "\n",
    "from sklearn.model_selection import train_test_split\n",
    "from sklearn.metrics import confusion_matrix, accuracy_score\n",
    "from sklearn.metrics import f1_score\n",
    "from imblearn.over_sampling import RandomOverSampler\n",
    "from sklearn.preprocessing import StandardScaler\n",
    "from sklearn.svm import SVC\n",
    "\n",
    "\n",
    "from codes.utils import stratified_train_test_group_kfold\n",
    "from codes.utils import pred2class\n",
    "from codes.utils import model_test_regression\n",
    "from codes.regression_codes import svr_gridsearch\n",
    "\n",
    "\n",
    "\n",
    "with open(\"Data/MoS2_Analysis_Data_trained2\", \"rb\") as fp:   # Unpickling\n",
    "    MoS2_Proj1_Class_Data = pickle.load(fp)\n",
    "\n",
    "#features = MoS2_ImageNet_100_data[0]\n",
    "df = pd.DataFrame(MoS2_Proj1_Class_Data)\n",
    "print(df.keys())\n",
    "T_target = np.array(list(df['T']))\n",
    "features = np.array(list(df['ImageNet']))\n",
    "sampleId = np.array(list(df['sampleId']))\n",
    "train_val_sampleId, test_sampleId, train_val_Y, test_Y = train_test_split(sampleId, T_target, test_size=0.1, stratify = T_target, random_state=40)"
   ]
  },
  {
   "cell_type": "markdown",
   "id": "f2a7070e",
   "metadata": {},
   "source": [
    "# 2. Data Splitting and Scaling"
   ]
  },
  {
   "cell_type": "code",
   "execution_count": 2,
   "id": "6c5fee16",
   "metadata": {},
   "outputs": [
    {
     "name": "stdout",
     "output_type": "stream",
     "text": [
      "<class 'generator'>\n",
      "(235, 100)\n",
      "(235,)\n",
      "(27, 100)\n",
      "(27,)\n"
     ]
    }
   ],
   "source": [
    "\n",
    "\n",
    "X = features\n",
    "Y = np.array(T_target)\n",
    "groups = np.array(sampleId)\n",
    "\n",
    "\n",
    "\n",
    "\n",
    "train_val_groups, train_val_X, train_val_Y, test_X, test_Y = stratified_train_test_group_kfold(X, Y, groups, n_splits=10, test_fold=0)\n",
    "train_val_Y = train_val_Y.flatten()\n",
    "#val_Y = val_Y.flatten()\n",
    "test_Y = test_Y.flatten()\n",
    "\n",
    "print(train_val_X.shape)\n",
    "print(train_val_Y.shape)\n",
    "print(test_X.shape)\n",
    "print(test_Y.shape)\n",
    "\n",
    "\n",
    "oversample = RandomOverSampler(sampling_strategy='not majority')\n",
    "\n",
    "scaler = StandardScaler().fit(train_val_X)\n",
    "train_val_X = scaler.transform(train_val_X)\n",
    "test_X = scaler.transform(test_X)"
   ]
  },
  {
   "cell_type": "markdown",
   "id": "8e085fd1",
   "metadata": {},
   "source": [
    "# 3. Runing Cross-Validation"
   ]
  },
  {
   "cell_type": "code",
   "execution_count": 3,
   "id": "18c27744",
   "metadata": {},
   "outputs": [
    {
     "name": "stdout",
     "output_type": "stream",
     "text": [
      "<class 'generator'>\n",
      "best_train_acc: 0.6888888888888889, best_val_acc: 0.6666666666666666\n",
      "best_train_acc: 0.765079365079365, best_val_acc: 0.7083333333333334\n",
      "fold: 0 done!\n",
      "<class 'generator'>\n",
      "best_train_acc: 0.660377358490566, best_val_acc: 0.625\n",
      "best_train_acc: 0.7484276729559748, best_val_acc: 0.6666666666666666\n",
      "best_train_acc: 0.7452830188679245, best_val_acc: 0.7083333333333334\n",
      "fold: 1 done!\n",
      "<class 'generator'>\n",
      "best_train_acc: 0.6540880503144654, best_val_acc: 0.6666666666666666\n",
      "fold: 2 done!\n",
      "<class 'generator'>\n",
      "best_train_acc: 0.653968253968254, best_val_acc: 0.8333333333333334\n",
      "fold: 3 done!\n",
      "<class 'generator'>\n",
      "best_train_acc: 0.6349206349206349, best_val_acc: 0.7916666666666666\n",
      "fold: 4 done!\n",
      "<class 'generator'>\n",
      "best_train_acc: 0.653968253968254, best_val_acc: 0.8695652173913043\n",
      "fold: 5 done!\n",
      "<class 'generator'>\n",
      "best_train_acc: 0.653968253968254, best_val_acc: 0.6086956521739131\n",
      "fold: 6 done!\n",
      "<class 'generator'>\n",
      "best_train_acc: 0.6793650793650794, best_val_acc: 0.6086956521739131\n",
      "best_train_acc: 0.7047619047619048, best_val_acc: 0.6521739130434783\n",
      "fold: 7 done!\n",
      "<class 'generator'>\n",
      "best_train_acc: 0.6444444444444445, best_val_acc: 0.6086956521739131\n",
      "best_train_acc: 0.7206349206349206, best_val_acc: 0.6521739130434783\n",
      "fold: 8 done!\n",
      "<class 'generator'>\n",
      "best_train_acc: 0.660377358490566, best_val_acc: 0.5217391304347826\n",
      "best_train_acc: 0.660377358490566, best_val_acc: 0.5652173913043478\n",
      "best_train_acc: 0.6981132075471698, best_val_acc: 0.6086956521739131\n",
      "best_train_acc: 0.7232704402515723, best_val_acc: 0.6521739130434783\n",
      "best_train_acc: 0.7169811320754716, best_val_acc: 0.7391304347826086\n",
      "fold: 9 done!\n",
      "[0.765079365079365, 0.7452830188679245, 0.6540880503144654, 0.653968253968254, 0.6349206349206349, 0.653968253968254, 0.653968253968254, 0.7047619047619048, 0.7206349206349206, 0.7169811320754716]\n",
      "[0.7083333333333334, 0.7083333333333334, 0.6666666666666666, 0.8333333333333334, 0.7916666666666666, 0.8695652173913043, 0.6086956521739131, 0.6521739130434783, 0.6521739130434783, 0.7391304347826086]\n",
      "train_acc_mean: 0.690, std: 0.043, val_acc_mean: 0.723, std: 0.081\n"
     ]
    }
   ],
   "source": [
    "oversample = RandomOverSampler(sampling_strategy='not majority')\n",
    "\n",
    "Kernel = ['linear']#, 'poly', 'rbf', 'sigmoid']#, 'precomputed']\n",
    "Degree = [i for i in range(1, 11)]\n",
    "Gamma = ['scale', 'auto']\n",
    "Coef0 = list(np.arange(0,0.5,0.05))\n",
    "Ce = list(np.arange(0.1, 1.1, 0.1))\n",
    "#print(Ce)\n",
    "Epsilon = list(np.arange(0.1, 1.1, 0.1))\n",
    "Shrinking = [False, True]\n",
    "\n",
    "\n",
    "def cross_10_folds_svc(train_val_X, train_val_Y):\n",
    "    \n",
    "    best_train = []\n",
    "    best_val = []\n",
    "    best_variables = []\n",
    "    for fold in range(10):\n",
    "        group, train_X, train_Y, val_X, val_Y = stratified_train_test_group_kfold(train_val_X, train_val_Y, train_val_groups, n_splits=10, test_fold=fold)\n",
    "          \n",
    "        model_path = f'regression/ImageNet/aug3/SVR_{fold}_model.sav'\n",
    "        \n",
    "        train_X, train_Y = oversample.fit_resample(train_X, train_Y)\n",
    "        variables_best, performance_best = svr_gridsearch(train_X, train_Y, val_X, val_Y, Kernel, Degree, Gamma, Coef0, Ce,Epsilon,Shrinking,fold, model_path)\n",
    "        best_train.append(performance_best['accuracy_train'])\n",
    "        best_val.append(performance_best['accuracy_val'])\n",
    "        best_variables.append(variables_best)\n",
    "        print(f'fold: {fold} done!')\n",
    "    return best_train, best_val, best_variables\n",
    "\n",
    "best_train, best_val, best_variables = cross_10_folds_svc(train_val_X, train_val_Y)\n",
    "\n",
    "print(best_train)\n",
    "print(best_val)\n",
    "print(f'train_acc_mean: {np.mean(best_train) :.3f}, std: {np.std(best_train) :.3f}, val_acc_mean: {np.mean(best_val):.3f}, std: {np.std(best_val):.3f}')"
   ]
  },
  {
   "cell_type": "markdown",
   "id": "e75d7bff",
   "metadata": {},
   "source": [
    "# 4. Model Testing"
   ]
  },
  {
   "cell_type": "code",
   "execution_count": 4,
   "id": "16c09e27",
   "metadata": {},
   "outputs": [
    {
     "name": "stdout",
     "output_type": "stream",
     "text": [
      "<class 'generator'>\n",
      "<class 'generator'>\n",
      "<class 'generator'>\n",
      "<class 'generator'>\n",
      "<class 'generator'>\n",
      "<class 'generator'>\n",
      "<class 'generator'>\n",
      "<class 'generator'>\n",
      "<class 'generator'>\n",
      "<class 'generator'>\n",
      "best_test:  [0.5185185185185185, 0.5555555555555556, 0.48148148148148145, 0.48148148148148145, 0.48148148148148145, 0.5555555555555556, 0.6666666666666666, 0.5555555555555556, 0.5185185185185185, 0.48148148148148145]\n",
      "rmse:  [28.719602685512527, 32.204876041117444, 29.012500521160845, 32.9964765405641, 33.41696481398423, 27.876175317115788, 26.733961553065598, 31.473341634041777, 30.8989021016559, 28.931445779424433]\n",
      "test_acc_mean: 0.530, std: 0.055, rmse_mean: 30.226424698764266, rmse_std: 2.166012389580321\n",
      "......\n",
      "5th confusion matrix:  [[1, 2, 0], [3, 8, 2], [0, 7, 4]]\n"
     ]
    }
   ],
   "source": [
    "best_fold = 0\n",
    "\n",
    "model_path = f'regression/ImageNet/aug3/SVR_{best_fold}_model.sav'\n",
    "\n",
    "\n",
    "# Fitting different train in the same hyperparameters\n",
    "\n",
    "\n",
    "\n",
    "\n",
    "best_test, root_mean_squared_error, confusion_matrix_test = model_test_regression(train_val_X, train_val_Y, train_val_groups,test_X, test_Y, best_fold, model_path)\n",
    "\n",
    "print('best_test: ', best_test)\n",
    "print('rmse: ', root_mean_squared_error)\n",
    "print(f'test_acc_mean: {np.mean(best_test) :.3f}, std: {np.std(best_test) :.3f}, rmse_mean: {np.mean(root_mean_squared_error)}, rmse_std: {np.std(root_mean_squared_error)}')\n",
    "\n",
    "print(\"......\")\n",
    "\n",
    "print('5th confusion matrix: ', [list(item) for item in confusion_matrix_test[4]])"
   ]
  },
  {
   "cell_type": "code",
   "execution_count": 5,
   "id": "9a9bd8ed",
   "metadata": {},
   "outputs": [
    {
     "data": {
      "text/plain": [
       "{'C': 0.5,\n",
       " 'cache_size': 200,\n",
       " 'coef0': 0.0,\n",
       " 'degree': 1,\n",
       " 'epsilon': 0.1,\n",
       " 'gamma': 'scale',\n",
       " 'kernel': 'linear',\n",
       " 'max_iter': -1,\n",
       " 'shrinking': False,\n",
       " 'tol': 0.001,\n",
       " 'verbose': False}"
      ]
     },
     "execution_count": 5,
     "metadata": {},
     "output_type": "execute_result"
    }
   ],
   "source": [
    "best_fold = 0\n",
    "PATH = f'Models/regression/ImageNet/aug3/SVR_{best_fold}_model.sav'\n",
    "\n",
    "#PATH = os.path.join('Models', model_path)\n",
    "loaded_model = pickle.load(open(PATH, 'rb'))\n",
    "loaded_model.get_params()"
   ]
  },
  {
   "cell_type": "code",
   "execution_count": null,
   "id": "17c4703e",
   "metadata": {},
   "outputs": [],
   "source": []
  }
 ],
 "metadata": {
  "kernelspec": {
   "display_name": "Python [conda env:torchvision] *",
   "language": "python",
   "name": "conda-env-torchvision-py"
  },
  "language_info": {
   "codemirror_mode": {
    "name": "ipython",
    "version": 3
   },
   "file_extension": ".py",
   "mimetype": "text/x-python",
   "name": "python",
   "nbconvert_exporter": "python",
   "pygments_lexer": "ipython3",
   "version": "3.10.6"
  }
 },
 "nbformat": 4,
 "nbformat_minor": 5
}
