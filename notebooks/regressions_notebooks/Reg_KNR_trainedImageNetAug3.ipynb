{
 "cells": [
  {
   "cell_type": "markdown",
   "id": "63563a1b",
   "metadata": {},
   "source": [
    "# 1.  Imports and Data"
   ]
  },
  {
   "cell_type": "code",
   "execution_count": 1,
   "id": "cc4d5612",
   "metadata": {},
   "outputs": [
    {
     "name": "stdout",
     "output_type": "stream",
     "text": [
      "0.10.1\n"
     ]
    }
   ],
   "source": [
    "from sklearn.decomposition import PCA\n",
    "import matplotlib as mpl \n",
    "import numpy as np\n",
    "import os\n",
    "import pandas as pd\n",
    "import pickle\n",
    "\n",
    "from sklearn.model_selection import train_test_split\n",
    "from sklearn.metrics import confusion_matrix, accuracy_score\n",
    "from sklearn.metrics import f1_score\n",
    "from imblearn.over_sampling import RandomOverSampler\n",
    "from sklearn.preprocessing import StandardScaler\n",
    "\n",
    "\n",
    "\n",
    "from utils import stratified_train_test_group_kfold\n",
    "from utils import pred2class\n",
    "from utils import model_test_regression\n",
    "from regression_codes import gpr_gridsearch\n",
    "\n",
    "\n",
    "\n",
    "with open(\"Data/MoS2_Analysis_Data_trained2\", \"rb\") as fp:   # Unpickling\n",
    "    MoS2_Proj1_Class_Data = pickle.load(fp)\n",
    "\n",
    "#features = MoS2_ImageNet_100_data[0]\n",
    "df = pd.DataFrame(MoS2_Proj1_Class_Data)\n",
    "print(df.keys())\n",
    "T_target = np.array(list(df['T']))\n",
    "features = np.array(list(df['ImageNet']))\n",
    "sampleId = np.array(list(df['sampleId']))\n",
    "train_val_sampleId, test_sampleId, train_val_Y, test_Y = train_test_split(sampleId, T_target, test_size=0.1, stratify = T_target, random_state=40)"
   ]
  },
  {
   "cell_type": "markdown",
   "id": "4eeacd2e",
   "metadata": {},
   "source": [
    "# 2. Data Splitting and Scaling"
   ]
  },
  {
   "cell_type": "code",
   "execution_count": 2,
   "id": "6c5fee16",
   "metadata": {},
   "outputs": [
    {
     "name": "stdout",
     "output_type": "stream",
     "text": [
      "Index(['sampleId', 'sampleLabel', 'image', 'T', 'ImageNet', 'MicroNet'], dtype='object')\n"
     ]
    }
   ],
   "source": [
    "\n",
    "\n",
    "X = features\n",
    "Y = np.array(T_target)\n",
    "groups = np.array(sampleId)\n",
    "\n",
    "\n",
    "\n",
    "\n",
    "train_val_groups, train_val_X, train_val_Y, test_X, test_Y = stratified_train_test_group_kfold(X, Y, groups, n_splits=10, test_fold=0)\n",
    "train_val_Y = train_val_Y.flatten()\n",
    "#val_Y = val_Y.flatten()\n",
    "test_Y = test_Y.flatten()\n",
    "\n",
    "print(train_val_X.shape)\n",
    "print(train_val_Y.shape)\n",
    "print(test_X.shape)\n",
    "print(test_Y.shape)\n",
    "\n",
    "\n",
    "oversample = RandomOverSampler(sampling_strategy='not majority')\n",
    "\n",
    "scaler = StandardScaler().fit(train_val_X)\n",
    "train_val_X = scaler.transform(train_val_X)\n",
    "test_X = scaler.transform(test_X)"
   ]
  },
  {
   "cell_type": "code",
   "execution_count": 6,
   "id": "e1bec99e",
   "metadata": {},
   "outputs": [],
   "source": [
    "! mkdir -p 'Model/Reg/TrainedImageNet/Up'"
   ]
  },
  {
   "cell_type": "markdown",
   "id": "d596c99f",
   "metadata": {},
   "source": [
    "# 3. Runing Cross-Validation"
   ]
  },
  {
   "cell_type": "code",
   "execution_count": 6,
   "id": "18c27744",
   "metadata": {},
   "outputs": [
    {
     "name": "stdout",
     "output_type": "stream",
     "text": [
      "<class 'generator'>\n",
      "best_train_acc: 0.863, best_val_acc: 0.708\n",
      "best_train_acc: 1.000, best_val_acc: 0.750\n",
      "best_train_acc: 1.000, best_val_acc: 0.792\n",
      "best_train_acc: 0.759, best_val_acc: 0.833\n",
      "fold: 0 done!\n",
      "<class 'generator'>\n",
      "best_train_acc: 0.843, best_val_acc: 0.792\n",
      "best_train_acc: 0.852, best_val_acc: 0.875\n",
      "best_train_acc: 1.000, best_val_acc: 0.917\n",
      "fold: 1 done!\n",
      "<class 'generator'>\n",
      "best_train_acc: 0.846, best_val_acc: 0.500\n",
      "best_train_acc: 1.000, best_val_acc: 0.542\n",
      "best_train_acc: 1.000, best_val_acc: 0.583\n",
      "best_train_acc: 0.808, best_val_acc: 0.625\n",
      "best_train_acc: 0.783, best_val_acc: 0.708\n",
      "fold: 2 done!\n",
      "<class 'generator'>\n",
      "best_train_acc: 0.848, best_val_acc: 0.583\n",
      "best_train_acc: 0.860, best_val_acc: 0.667\n",
      "best_train_acc: 0.724, best_val_acc: 0.708\n",
      "best_train_acc: 0.654, best_val_acc: 0.750\n",
      "fold: 3 done!\n",
      "<class 'generator'>\n",
      "best_train_acc: 0.860, best_val_acc: 0.708\n",
      "best_train_acc: 0.790, best_val_acc: 0.750\n",
      "fold: 4 done!\n",
      "<class 'generator'>\n",
      "best_train_acc: 0.863, best_val_acc: 0.609\n",
      "best_train_acc: 0.825, best_val_acc: 0.696\n",
      "best_train_acc: 1.000, best_val_acc: 0.739\n",
      "fold: 5 done!\n",
      "<class 'generator'>\n",
      "best_train_acc: 0.873, best_val_acc: 0.478\n",
      "best_train_acc: 0.873, best_val_acc: 0.522\n",
      "best_train_acc: 0.886, best_val_acc: 0.565\n",
      "best_train_acc: 0.784, best_val_acc: 0.609\n",
      "fold: 6 done!\n",
      "<class 'generator'>\n",
      "best_train_acc: 0.851, best_val_acc: 0.609\n",
      "best_train_acc: 0.714, best_val_acc: 0.652\n",
      "fold: 7 done!\n",
      "<class 'generator'>\n",
      "best_train_acc: 0.860, best_val_acc: 0.391\n",
      "best_train_acc: 0.863, best_val_acc: 0.435\n",
      "best_train_acc: 0.768, best_val_acc: 0.478\n",
      "best_train_acc: 0.768, best_val_acc: 0.522\n",
      "best_train_acc: 0.724, best_val_acc: 0.565\n",
      "best_train_acc: 0.683, best_val_acc: 0.609\n",
      "fold: 8 done!\n",
      "<class 'generator'>\n",
      "best_train_acc: 0.874, best_val_acc: 0.478\n",
      "best_train_acc: 0.865, best_val_acc: 0.522\n",
      "best_train_acc: 0.805, best_val_acc: 0.609\n",
      "best_train_acc: 0.745, best_val_acc: 0.652\n",
      "best_train_acc: 0.733, best_val_acc: 0.696\n",
      "best_train_acc: 0.742, best_val_acc: 0.739\n",
      "fold: 9 done!\n",
      "[0.7587301587301587, 1.0, 0.7830188679245284, 0.653968253968254, 0.7904761904761904, 1.0, 0.7841269841269841, 0.7142857142857143, 0.6825396825396826, 0.7421383647798742]\n",
      "[0.8333333333333334, 0.9166666666666666, 0.7083333333333334, 0.75, 0.75, 0.7391304347826086, 0.6086956521739131, 0.6521739130434783, 0.6086956521739131, 0.7391304347826086]\n",
      "[20.824828195876076, 24.357228808216014, 31.60932868417084, 30.604560419279014, 19.9282567392802, 26.873499021759148, 36.534676797470816, 34.36363302249574, 35.48060194617865, 30.69249070224256]\n",
      "train_acc_mean: 0.791, std: 0.113, val_acc_mean: 0.731, std: 0.091, val_rmse: 29.127, std: 5.611\n"
     ]
    }
   ],
   "source": [
    "N_neighbors = [i for i in range(3, 15)]\n",
    "Weights = ['uniform', 'distance']\n",
    "Algorithm = ['auto', 'ball_tree', 'kd_tree', 'brute']\n",
    "P = [i for i in range(1, 6)]\n",
    "\n",
    "\n",
    "def cross_10_folds_knr(train_val_X, train_val_Y):\n",
    "    \n",
    "    best_train = []\n",
    "    best_val = []\n",
    "    rmse_val = []\n",
    "    best_variables = []\n",
    "    for fold in range(10):\n",
    "        group, train_X, train_Y, val_X, val_Y = stratified_train_test_group_kfold(train_val_X, train_val_Y, train_val_groups, n_splits=10, test_fold=fold)\n",
    "        model_path = f'regression/ImageNet/aug3/KNR_{fold}_model.sav'\n",
    "        \n",
    "        train_X, train_Y = oversample.fit_resample(train_X, train_Y)\n",
    "        variables_best, performance_best = knr_gridsearch(train_X, train_Y, val_X, val_Y, N_neighbors, Weights, Algorithm, P, fold, model_path)\n",
    "        best_train.append(performance_best['accuracy_train'])\n",
    "        best_val.append(performance_best['accuracy_val'])\n",
    "        rmse_val.append(performance_best['rmse_val'])\n",
    "        best_variables.append(variables_best)\n",
    "        print(f'fold: {fold} done!')\n",
    "    return best_train, best_val, rmse_val, best_variables\n",
    "\n",
    "\n",
    "best_train, best_val, rmse_val, best_variables = cross_10_folds_knr(train_val_X, train_val_Y)\n",
    "\n",
    "with open(\"Model/Reg/TrainedImageNet/Up/KNN_RegModels_T_best_variables\", \"wb\") as fb:\n",
    "    pickle.dump(best_variables, fb)\n",
    "\n",
    "\n",
    "print(best_train)\n",
    "print(best_val)\n",
    "print(rmse_val)\n",
    "print(f'train_acc_mean: {np.mean(best_train) :.3f}, std: {np.std(best_train) :.3f}, val_acc_mean: {np.mean(best_val):.3f}, std: {np.std(best_val):.3f}, val_rmse: {np.mean(rmse_val):.3f}, std: {np.std(rmse_val):.3f}')"
   ]
  },
  {
   "cell_type": "markdown",
   "id": "80bd0d7f",
   "metadata": {},
   "source": [
    "# 4. Model Testing"
   ]
  },
  {
   "cell_type": "code",
   "execution_count": 5,
   "id": "16c09e27",
   "metadata": {},
   "outputs": [
    {
     "name": "stdout",
     "output_type": "stream",
     "text": [
      "<class 'generator'>\n",
      "<class 'generator'>\n",
      "<class 'generator'>\n",
      "<class 'generator'>\n",
      "<class 'generator'>\n",
      "<class 'generator'>\n",
      "<class 'generator'>\n",
      "<class 'generator'>\n",
      "<class 'generator'>\n",
      "<class 'generator'>\n",
      "best_test:  [0.5555555555555556, 0.6296296296296297, 0.6296296296296297, 0.48148148148148145, 0.6666666666666666, 0.5185185185185185, 0.5555555555555556, 0.5925925925925926, 0.5185185185185185, 0.6296296296296297]\n",
      "rmse:  [34.907261631897875, 28.765545446741452, 28.075308062699506, 32.38125016858805, 28.627514539077513, 31.23663664962887, 36.100447385390076, 33.739931557842816, 32.502785397122025, 33.99240539302281]\n",
      "test_acc_mean: 0.578, std: 0.058, rmse_mean: 32.032908623201095, rmse_std: 2.6546464915918464\n",
      "......\n",
      "5th confusion matrix:  [[3, 0, 0], [3, 10, 0], [0, 6, 5]]\n"
     ]
    }
   ],
   "source": [
    "best_fold = 1\n",
    "\n",
    "\n",
    "model_path = f'regression/ImageNet/aug3/KNR_{best_fold}_model.sav'\n",
    "\n",
    "# Fitting different train in the same hyperparameters\n",
    "best_test, root_mean_squared_error, confusion_matrix_test = model_test_regression(train_val_X, train_val_Y, train_val_groups,test_X, test_Y, best_fold, model_path)\n",
    "\n",
    "print('best_test: ', best_test)\n",
    "print('rmse: ', root_mean_squared_error)\n",
    "print(f'test_acc_mean: {np.mean(best_test) :.3f}, std: {np.std(best_test) :.3f}, rmse_mean: {np.mean(root_mean_squared_error)}, rmse_std: {np.std(root_mean_squared_error)}')\n",
    "\n",
    "print(\"......\")\n",
    "\n",
    "print('5th confusion matrix: ', [list(item) for item in confusion_matrix_test[4]])"
   ]
  },
  {
   "cell_type": "code",
   "execution_count": 6,
   "id": "e91f1ecb",
   "metadata": {},
   "outputs": [
    {
     "name": "stdout",
     "output_type": "stream",
     "text": [
      "10\n",
      "avg cm:  [[2.0, 1.0, 0.0], [4.2, 7.5, 1.3], [0.3, 4.6, 6.1]]\n"
     ]
    }
   ],
   "source": [
    "cm_list = []\n",
    "for cm in confusion_matrix_test:\n",
    "    cm_list.append([list(item) for item in cm])\n",
    "#print(cm_list)\n",
    "\n",
    "print(len(cm_list))\n",
    "print('avg cm: ', [list(item) for item in np.mean(cm_list, axis=0)])\n"
   ]
  },
  {
   "cell_type": "code",
   "execution_count": 3,
   "id": "35261d18",
   "metadata": {},
   "outputs": [
    {
     "data": {
      "text/plain": [
       "{'algorithm': 'auto',\n",
       " 'leaf_size': 30,\n",
       " 'metric': 'minkowski',\n",
       " 'metric_params': None,\n",
       " 'n_jobs': None,\n",
       " 'n_neighbors': 6,\n",
       " 'p': 4,\n",
       " 'weights': 'distance'}"
      ]
     },
     "execution_count": 3,
     "metadata": {},
     "output_type": "execute_result"
    }
   ],
   "source": [
    "best_fold = 1\n",
    "#PATH = os.path.join('Model', model_path)\n",
    "PATH = f'Model/Reg/TrainedImageNet/Up/KNN_{best_fold}_model.sav'\n",
    "loaded_model = pickle.load(open(PATH, 'rb'))\n",
    "loaded_model.get_params()"
   ]
  },
  {
   "cell_type": "code",
   "execution_count": null,
   "id": "d2e425a6",
   "metadata": {},
   "outputs": [],
   "source": []
  }
 ],
 "metadata": {
  "kernelspec": {
   "display_name": "Python [conda env:torchvision] *",
   "language": "python",
   "name": "conda-env-torchvision-py"
  },
  "language_info": {
   "codemirror_mode": {
    "name": "ipython",
    "version": 3
   },
   "file_extension": ".py",
   "mimetype": "text/x-python",
   "name": "python",
   "nbconvert_exporter": "python",
   "pygments_lexer": "ipython3",
   "version": "3.10.6"
  }
 },
 "nbformat": 4,
 "nbformat_minor": 5
}
